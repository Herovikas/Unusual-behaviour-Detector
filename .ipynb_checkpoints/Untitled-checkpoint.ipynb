{
 "cells": [
  {
   "cell_type": "code",
   "execution_count": 1,
   "metadata": {},
   "outputs": [
    {
     "ename": "ModuleNotFoundError",
     "evalue": "No module named 'tensorflow'",
     "output_type": "error",
     "traceback": [
      "\u001b[1;31m---------------------------------------------------------------------------\u001b[0m",
      "\u001b[1;31mModuleNotFoundError\u001b[0m                       Traceback (most recent call last)",
      "\u001b[1;32m<ipython-input-1-4791741c6501>\u001b[0m in \u001b[0;36m<module>\u001b[1;34m\u001b[0m\n\u001b[0;32m      2\u001b[0m \u001b[1;33m\u001b[0m\u001b[0m\n\u001b[0;32m      3\u001b[0m \u001b[1;33m\u001b[0m\u001b[0m\n\u001b[1;32m----> 4\u001b[1;33m \u001b[1;32mimport\u001b[0m \u001b[0mtensorflow\u001b[0m \u001b[1;32mas\u001b[0m \u001b[0mtf\u001b[0m\u001b[1;33m\u001b[0m\u001b[1;33m\u001b[0m\u001b[0m\n\u001b[0m\u001b[0;32m      5\u001b[0m \u001b[1;32mimport\u001b[0m \u001b[0mpathlib\u001b[0m\u001b[1;33m\u001b[0m\u001b[1;33m\u001b[0m\u001b[0m\n\u001b[0;32m      6\u001b[0m \u001b[1;32mfrom\u001b[0m \u001b[0mtensorflow\u001b[0m\u001b[1;33m.\u001b[0m\u001b[0mkeras\u001b[0m\u001b[1;33m.\u001b[0m\u001b[0mmodels\u001b[0m \u001b[1;32mimport\u001b[0m \u001b[0mSequential\u001b[0m\u001b[1;33m\u001b[0m\u001b[1;33m\u001b[0m\u001b[0m\n",
      "\u001b[1;31mModuleNotFoundError\u001b[0m: No module named 'tensorflow'"
     ]
    }
   ],
   "source": [
    "\n",
    "from __future__ import absolute_import, division, print_function, unicode_literals\n",
    "\n",
    "\n",
    "import tensorflow as tf\n",
    "import pathlib\n",
    "from tensorflow.keras.models import Sequential\n",
    "from tensorflow.keras.layers import Dense, Conv2D, Flatten, Dropout, MaxPooling2D\n",
    "from tensorflow.keras.preprocessing.image import ImageDataGenerator\n",
    "import os\n",
    "import numpy as np\n",
    "import matplotlib.pyplot as plt\n",
    "\n",
    "\n"
   ]
  },
  {
   "cell_type": "code",
   "execution_count": null,
   "metadata": {},
   "outputs": [],
   "source": [
    "import IPython.display as display\n",
    "from PIL import Image"
   ]
  },
  {
   "cell_type": "code",
   "execution_count": null,
   "metadata": {},
   "outputs": [],
   "source": [
    "from tensorflow.python.platform import build_info as tf_build_info\n",
    "# print(tf_build_info.cudnn_version_number)\n",
    "# # 9.0 in v1.10.0\n",
    "# print(tf_build_info.cudnn_version_number)\n",
    "# # 7 in v1.10.0"
   ]
  },
  {
   "cell_type": "code",
   "execution_count": 27,
   "metadata": {},
   "outputs": [],
   "source": [
    "train_data_dir1 = \"Images\"\n",
    "test_data_dir1 = \"Images_unusual\""
   ]
  },
  {
   "cell_type": "code",
   "execution_count": 57,
   "metadata": {},
   "outputs": [
    {
     "name": "stdout",
     "output_type": "stream",
     "text": [
      "1412\n",
      "478\n"
     ]
    }
   ],
   "source": [
    "train_data_var1 = pathlib.Path(train_data_dir1)\n",
    "test_data_var1 = pathlib.Path(test_data_dir1)\n",
    "\n",
    "total_train = len(list(train_data_var1.glob('*/*.jpg')))\n",
    "total_val = len(list(test_data_var1.glob('*/*.jpg')))\n",
    "print(total_train)\n",
    "print(total_val)"
   ]
  },
  {
   "cell_type": "code",
   "execution_count": 45,
   "metadata": {},
   "outputs": [
    {
     "data": {
      "text/plain": [
       "478"
      ]
     },
     "execution_count": 45,
     "metadata": {},
     "output_type": "execute_result"
    }
   ],
   "source": [
    "image_count = len(list(test_data_var1.glob('*/*.jpg')))\n",
    "image_count"
   ]
  },
  {
   "cell_type": "code",
   "execution_count": 46,
   "metadata": {},
   "outputs": [
    {
     "data": {
      "text/plain": [
       "array(['frame 0.1 sec.jpg', 'frame 0.2 sec.jpg', 'frame 0.3 sec.jpg', ...,\n",
       "       'frames 99.7 sec.jpg', 'frames 99.8 sec.jpg',\n",
       "       'frames 99.9 sec.jpg'], dtype='<U20')"
      ]
     },
     "execution_count": 46,
     "metadata": {},
     "output_type": "execute_result"
    }
   ],
   "source": [
    "CLASS_NAMES = np.array([item.name for item in train_data_var1.glob('*/*.jpg') if item.name != \"LICENSE.txt\"])\n",
    "CLASS_NAMES"
   ]
  },
  {
   "cell_type": "code",
   "execution_count": 47,
   "metadata": {},
   "outputs": [
    {
     "name": "stdout",
     "output_type": "stream",
     "text": [
      "1412\n"
     ]
    }
   ],
   "source": [
    "#Define parameter for training\n",
    "batch_size = 32\n",
    "IMG_HEIGHT = 224\n",
    "IMG_WIDTH = 224\n",
    "STEPS_PER_EPOCH = np.ceil(image_count/batch_size)\n",
    "epochs = 8\n",
    "num_classes = len(CLASS_NAMES)\n",
    "print(num_classes)"
   ]
  },
  {
   "cell_type": "code",
   "execution_count": 36,
   "metadata": {},
   "outputs": [
    {
     "name": "stdout",
     "output_type": "stream",
     "text": [
      "Found 0 images belonging to 1412 classes.\n",
      "Found 0 images belonging to 1412 classes.\n",
      "dict_keys(['frame 0.1 sec.jpg', 'frame 0.2 sec.jpg', 'frame 0.3 sec.jpg', 'frame 0.4 sec.jpg', 'frame 0.5 sec.jpg', 'frame 0.6 sec.jpg', 'frame 0.7 sec.jpg', 'frame 0.8 sec.jpg', 'frame 0.9 sec.jpg', 'frame 109.7 sec.jpg', 'frame 109.8 sec.jpg', 'frame 109.9 sec.jpg', 'frame 110.0 sec.jpg', 'frame 110.1 sec.jpg', 'frame 110.2 sec.jpg', 'frame 110.3 sec.jpg', 'frame 110.4 sec.jpg', 'frame 110.5 sec.jpg', 'frame 110.6 sec.jpg', 'frame 110.7 sec.jpg', 'frame 110.8 sec.jpg', 'frame 110.9 sec.jpg', 'frame 111.0 sec.jpg', 'frame 111.1 sec.jpg', 'frame 111.2 sec.jpg', 'frame 111.3 sec.jpg', 'frame 111.4 sec.jpg', 'frame 111.5 sec.jpg', 'frame 111.6 sec.jpg', 'frame 111.7 sec.jpg', 'frame 111.8 sec.jpg', 'frame 111.9 sec.jpg', 'frame 112.0 sec.jpg', 'frame 112.1 sec.jpg', 'frame 112.2 sec.jpg', 'frame 112.3 sec.jpg', 'frame 112.4 sec.jpg', 'frame 112.5 sec.jpg', 'frame 112.6 sec.jpg', 'frame 116.5 sec.jpg', 'frame 116.6 sec.jpg', 'frame 117.5 sec.jpg', 'frame 117.6 sec.jpg', 'frame 118.5 sec.jpg', 'frame 118.6 sec.jpg', 'frame 119.5 sec.jpg', 'frame 119.6 sec.jpg', 'frame 120.5 sec.jpg', 'frame 120.6 sec.jpg', 'frame 121.5 sec.jpg', 'frame 121.6 sec.jpg', 'frame 122.5 sec.jpg', 'frame 122.6 sec.jpg', 'frame 123.5 sec.jpg', 'frame 123.6 sec.jpg', 'frame 123.7 sec.jpg', 'frame 123.8 sec.jpg', 'frame 123.9 sec.jpg', 'frame 124.0 sec.jpg', 'frame 124.1 sec.jpg', 'frame 124.2 sec.jpg', 'frame 124.3 sec.jpg', 'frame 124.4 sec.jpg', 'frame 124.5 sec.jpg', 'frame 124.6 sec.jpg', 'frame 124.7 sec.jpg', 'frame 124.8 sec.jpg', 'frame 124.9 sec.jpg', 'frame 125.0 sec.jpg', 'frame 125.9 sec.jpg', 'frame 22.4 sec.jpg', 'frame 22.5 sec.jpg', 'frame 22.6 sec.jpg', 'frame 22.7 sec.jpg', 'frame 22.8 sec.jpg', 'frame 22.9 sec.jpg', 'frame 23.0 sec.jpg', 'frame 26.8 sec.jpg', 'frame 26.9 sec.jpg', 'frame 27.0 sec.jpg', 'frame 27.8 sec.jpg', 'frame 27.9 sec.jpg', 'frame 28.0 sec.jpg', 'frame 32.8 sec.jpg', 'frame 32.9 sec.jpg', 'frame 33.0 sec.jpg', 'frame 33.8 sec.jpg', 'frame 33.9 sec.jpg', 'frame 34.0 sec.jpg', 'frame 34.8 sec.jpg', 'frame 34.9 sec.jpg', 'frame 35.0 sec.jpg', 'frame 35.1 sec.jpg', 'frame 35.2 sec.jpg', 'frame 35.3 sec.jpg', 'frame 35.4 sec.jpg', 'frame 35.5 sec.jpg', 'frame 38.6 sec.jpg', 'frame 38.7 sec.jpg', 'frame 38.8 sec.jpg', 'frame 38.9 sec.jpg', 'frame 39.0 sec.jpg', 'frame 39.1 sec.jpg', 'frame 39.2 sec.jpg', 'frame 39.3 sec.jpg', 'frame 39.4 sec.jpg', 'frame 39.5 sec.jpg', 'frame 39.6 sec.jpg', 'frame 39.7 sec.jpg', 'frame 39.8 sec.jpg', 'frame 39.9 sec.jpg', 'frame 40.0 sec.jpg', 'frame 40.1 sec.jpg', 'frame 40.2 sec.jpg', 'frame 40.3 sec.jpg', 'frame 40.4 sec.jpg', 'frame 40.5 sec.jpg', 'frame 44.6 sec.jpg', 'frame 44.7 sec.jpg', 'frame 44.8 sec.jpg', 'frame 44.9 sec.jpg', 'frame 45.0 sec.jpg', 'frame 45.1 sec.jpg', 'frame 45.2 sec.jpg', 'frame 45.3 sec.jpg', 'frame 45.4 sec.jpg', 'frame 45.5 sec.jpg', 'frame 45.6 sec.jpg', 'frame 45.7 sec.jpg', 'frame 45.8 sec.jpg', 'frame 45.9 sec.jpg', 'frame 46.0 sec.jpg', 'frame 46.1 sec.jpg', 'frame 46.2 sec.jpg', 'frame 46.3 sec.jpg', 'frame 46.4 sec.jpg', 'frame 46.5 sec.jpg', 'frame 46.6 sec.jpg', 'frame 46.7 sec.jpg', 'frame 46.8 sec.jpg', 'frame 46.9 sec.jpg', 'frame 47.0 sec.jpg', 'frame 47.1 sec.jpg', 'frame 47.2 sec.jpg', 'frame 47.3 sec.jpg', 'frame 47.4 sec.jpg', 'frame 47.5 sec.jpg', 'frame 47.6 sec.jpg', 'frame 47.7 sec.jpg', 'frame 47.8 sec.jpg', 'frame 47.9 sec.jpg', 'frame 48.0 sec.jpg', 'frame 48.1 sec.jpg', 'frame 48.2 sec.jpg', 'frame 48.3 sec.jpg', 'frame 48.4 sec.jpg', 'frame 48.5 sec.jpg', 'frame 48.6 sec.jpg', 'frame 48.7 sec.jpg', 'frame 48.8 sec.jpg', 'frame 48.9 sec.jpg', 'frame 49.0 sec.jpg', 'frame 49.1 sec.jpg', 'frame 49.2 sec.jpg', 'frame 49.3 sec.jpg', 'frame 49.4 sec.jpg', 'frame 49.5 sec.jpg', 'frame 49.6 sec.jpg', 'frame 49.7 sec.jpg', 'frame 49.8 sec.jpg', 'frame 49.9 sec.jpg', 'frame 50.0 sec.jpg', 'frame 50.1 sec.jpg', 'frame 50.2 sec.jpg', 'frame 50.3 sec.jpg', 'frame 50.4 sec.jpg', 'frame 50.5 sec.jpg', 'frame 50.6 sec.jpg', 'frame 50.7 sec.jpg', 'frame 50.8 sec.jpg', 'frame 50.9 sec.jpg', 'frame 51.0 sec.jpg', 'frame 51.1 sec.jpg', 'frame 51.2 sec.jpg', 'frame 51.3 sec.jpg', 'frame 51.4 sec.jpg', 'frame 51.5 sec.jpg', 'frame 54.6 sec.jpg', 'frame 54.7 sec.jpg', 'frame 54.8 sec.jpg', 'frame 54.9 sec.jpg', 'frame 55.0 sec.jpg', 'frame 55.1 sec.jpg', 'frame 55.2 sec.jpg', 'frame 55.3 sec.jpg', 'frame 55.4 sec.jpg', 'frame 55.5 sec.jpg', 'frame 55.6 sec.jpg', 'frame 55.7 sec.jpg', 'frame 55.8 sec.jpg', 'frame 55.9 sec.jpg', 'frame 56.0 sec.jpg', 'frame 56.1 sec.jpg', 'frame 56.2 sec.jpg', 'frame 56.3 sec.jpg', 'frame 56.4 sec.jpg', 'frame 56.5 sec.jpg', 'frame 56.6 sec.jpg', 'frame 56.7 sec.jpg', 'frame 56.8 sec.jpg', 'frame 56.9 sec.jpg', 'frame 57.0 sec.jpg', 'frame 57.1 sec.jpg', 'frame 57.2 sec.jpg', 'frame 57.3 sec.jpg', 'frame 57.4 sec.jpg', 'frame 57.5 sec.jpg', 'frame 57.6 sec.jpg', 'frame 57.7 sec.jpg', 'frame 57.8 sec.jpg', 'frame 57.9 sec.jpg', 'frame 58.0 sec.jpg', 'frame 58.1 sec.jpg', 'frame 58.2 sec.jpg', 'frame 58.3 sec.jpg', 'frame 58.4 sec.jpg', 'frame 58.5 sec.jpg', 'frame 58.6 sec.jpg', 'frame 58.7 sec.jpg', 'frame 58.8 sec.jpg', 'frame 58.9 sec.jpg', 'frame 59.0 sec.jpg', 'frame 59.1 sec.jpg', 'frame 59.2 sec.jpg', 'frame 59.3 sec.jpg', 'frame 59.4 sec.jpg', 'frame 59.5 sec.jpg', 'frame 59.6 sec.jpg', 'frame 59.7 sec.jpg', 'frame 59.8 sec.jpg', 'frame 59.9 sec.jpg', 'frame 60.0 sec.jpg', 'frame 60.1 sec.jpg', 'frame 60.2 sec.jpg', 'frame 60.3 sec.jpg', 'frame 60.4 sec.jpg', 'frame 60.5 sec.jpg', 'frame 60.6 sec.jpg', 'frame 60.7 sec.jpg', 'frame 60.8 sec.jpg', 'frame 60.9 sec.jpg', 'frame 61.0 sec.jpg', 'frame 61.1 sec.jpg', 'frame 61.2 sec.jpg', 'frame 61.3 sec.jpg', 'frame 61.4 sec.jpg', 'frame 61.5 sec.jpg', 'frame 61.6 sec.jpg', 'frame 61.7 sec.jpg', 'frame 61.8 sec.jpg', 'frame 61.9 sec.jpg', 'frame 62.0 sec.jpg', 'frame 62.1 sec.jpg', 'frame 62.2 sec.jpg', 'frame 62.3 sec.jpg', 'frame 62.4 sec.jpg', 'frame 62.5 sec.jpg', 'frame 62.6 sec.jpg', 'frame 62.7 sec.jpg', 'frame 62.8 sec.jpg', 'frame 62.9 sec.jpg', 'frame 63.0 sec.jpg', 'frame 63.1 sec.jpg', 'frame 63.2 sec.jpg', 'frame 63.3 sec.jpg', 'frame 63.4 sec.jpg', 'frame 63.5 sec.jpg', 'frame 63.6 sec.jpg', 'frame 63.7 sec.jpg', 'frame 63.8 sec.jpg', 'frame 63.9 sec.jpg', 'frame 64.0 sec.jpg', 'frame 64.1 sec.jpg', 'frame 64.2 sec.jpg', 'frame 64.3 sec.jpg', 'frame 64.4 sec.jpg', 'frame 64.5 sec.jpg', 'frame 64.6 sec.jpg', 'frame 64.7 sec.jpg', 'frame 64.8 sec.jpg', 'frame 64.9 sec.jpg', 'frame 65.0 sec.jpg', 'frame 65.1 sec.jpg', 'frame 65.2 sec.jpg', 'frame 65.3 sec.jpg', 'frame 65.4 sec.jpg', 'frame 65.5 sec.jpg', 'frame 67.6 sec.jpg', 'frame 67.7 sec.jpg', 'frame 67.8 sec.jpg', 'frame 67.9 sec.jpg', 'frame 68.0 sec.jpg', 'frame 68.1 sec.jpg', 'frame 68.2 sec.jpg', 'frame 68.3 sec.jpg', 'frame 68.4 sec.jpg', 'frame 68.5 sec.jpg', 'frame 68.6 sec.jpg', 'frame 68.7 sec.jpg', 'frame 68.8 sec.jpg', 'frame 68.9 sec.jpg', 'frame 69.0 sec.jpg', 'frame 69.1 sec.jpg', 'frame 69.2 sec.jpg', 'frame 69.3 sec.jpg', 'frame 69.4 sec.jpg', 'frame 69.5 sec.jpg', 'frame 69.6 sec.jpg', 'frame 69.7 sec.jpg', 'frame 69.8 sec.jpg', 'frame 69.9 sec.jpg', 'frame 7.0 sec.jpg', 'frame 7.1 sec.jpg', 'frame 7.2 sec.jpg', 'frame 7.3 sec.jpg', 'frame 7.4 sec.jpg', 'frame 7.5 sec.jpg', 'frame 7.6 sec.jpg', 'frame 7.7 sec.jpg', 'frame 7.8 sec.jpg', 'frame 7.9 sec.jpg', 'frame 70.0 sec.jpg', 'frame 70.1 sec.jpg', 'frame 70.2 sec.jpg', 'frame 70.3 sec.jpg', 'frame 70.4 sec.jpg', 'frame 70.5 sec.jpg', 'frame 71.4 sec.jpg', 'frame 71.5 sec.jpg', 'frame 72.4 sec.jpg', 'frame 72.5 sec.jpg', 'frame 73.4 sec.jpg', 'frame 73.5 sec.jpg', 'frame 77.1 sec.jpg', 'frame 77.2 sec.jpg', 'frame 78.1 sec.jpg', 'frame 78.2 sec.jpg', 'frame 79.1 sec.jpg', 'frame 79.2 sec.jpg', 'frame 80.1 sec.jpg', 'frame 80.2 sec.jpg', 'frame 80.3 sec.jpg', 'frame 80.4 sec.jpg', 'frame 80.5 sec.jpg', 'frame 80.6 sec.jpg', 'frame 80.7 sec.jpg', 'frame 80.8 sec.jpg', 'frame 80.9 sec.jpg', 'frame 81.0 sec.jpg', 'frame 81.1 sec.jpg', 'frame 81.2 sec.jpg', 'frame 81.3 sec.jpg', 'frame 81.4 sec.jpg', 'frame 81.5 sec.jpg', 'frame 81.6 sec.jpg', 'frame 81.7 sec.jpg', 'frame 81.8 sec.jpg', 'frame 85.9 sec.jpg', 'frame 86.0 sec.jpg', 'frame 86.1 sec.jpg', 'frame 86.2 sec.jpg', 'frame 86.3 sec.jpg', 'frame 86.4 sec.jpg', 'frame 86.5 sec.jpg', 'frame 86.6 sec.jpg', 'frame 86.7 sec.jpg', 'frame 86.8 sec.jpg', 'frame 86.9 sec.jpg', 'frame 87.0 sec.jpg', 'frame 87.1 sec.jpg', 'frame 87.2 sec.jpg', 'frame 87.3 sec.jpg', 'frame 87.4 sec.jpg', 'frame 87.5 sec.jpg', 'frame 87.6 sec.jpg', 'frame 87.7 sec.jpg', 'frame 87.8 sec.jpg', 'frame 94.9 sec.jpg', 'frame 95.0 sec.jpg', 'frame 95.1 sec.jpg', 'frame 95.2 sec.jpg', 'frame 95.3 sec.jpg', 'frame 95.4 sec.jpg', 'frame 95.5 sec.jpg', 'frame 95.6 sec.jpg', 'frame 95.7 sec.jpg', 'frame 95.8 sec.jpg', 'frame 95.9 sec.jpg', 'frame 96.0 sec.jpg', 'frame 96.1 sec.jpg', 'frame 96.2 sec.jpg', 'frame 96.3 sec.jpg', 'frame 96.4 sec.jpg', 'frame 96.5 sec.jpg', 'frame 96.6 sec.jpg', 'frame 96.7 sec.jpg', 'frame 96.8 sec.jpg', 'frame 96.9 sec.jpg', 'frame 97.0 sec.jpg', 'frame 97.1 sec.jpg', 'frame 97.2 sec.jpg', 'frame 97.3 sec.jpg', 'frame 97.4 sec.jpg', 'frame 97.5 sec.jpg', 'frame 97.6 sec.jpg', 'frame 97.7 sec.jpg', 'frame 97.8 sec.jpg', 'frame 97.9 sec.jpg', 'frame 98.0 sec.jpg', 'frame 98.1 sec.jpg', 'frame 98.2 sec.jpg', 'frame 98.3 sec.jpg', 'frame 98.4 sec.jpg', 'frame 98.5 sec.jpg', 'frame 98.6 sec.jpg', 'frame 98.7 sec.jpg', 'frame 98.8 sec.jpg', 'frame 98.9 sec.jpg', 'frame 99.0 sec.jpg', 'frame 99.1 sec.jpg', 'frame 99.2 sec.jpg', 'frame 99.3 sec.jpg', 'frame 99.4 sec.jpg', 'frame 99.5 sec.jpg', 'frame 99.6 sec.jpg', 'frame 99.7 sec.jpg', 'frame 99.8 sec.jpg', 'frames 0 sec.jpg', 'frames 0.9 sec.jpg', 'frames 1.0 sec.jpg', 'frames 1.9 sec.jpg', 'frames 10.4 sec.jpg', 'frames 10.5 sec.jpg', 'frames 10.6 sec.jpg', 'frames 10.7 sec.jpg', 'frames 10.8 sec.jpg', 'frames 10.9 sec.jpg', 'frames 100.0 sec.jpg', 'frames 100.1 sec.jpg', 'frames 100.2 sec.jpg', 'frames 100.3 sec.jpg', 'frames 100.4 sec.jpg', 'frames 100.5 sec.jpg', 'frames 100.6 sec.jpg', 'frames 100.7 sec.jpg', 'frames 100.8 sec.jpg', 'frames 100.9 sec.jpg', 'frames 101.0 sec.jpg', 'frames 101.1 sec.jpg', 'frames 101.2 sec.jpg', 'frames 101.3 sec.jpg', 'frames 101.4 sec.jpg', 'frames 101.5 sec.jpg', 'frames 101.6 sec.jpg', 'frames 101.7 sec.jpg', 'frames 101.8 sec.jpg', 'frames 101.9 sec.jpg', 'frames 102.0 sec.jpg', 'frames 102.1 sec.jpg', 'frames 102.2 sec.jpg', 'frames 102.3 sec.jpg', 'frames 102.4 sec.jpg', 'frames 102.5 sec.jpg', 'frames 102.6 sec.jpg', 'frames 102.7 sec.jpg', 'frames 102.8 sec.jpg', 'frames 102.9 sec.jpg', 'frames 103.0 sec.jpg', 'frames 103.1 sec.jpg', 'frames 103.2 sec.jpg', 'frames 103.3 sec.jpg', 'frames 103.4 sec.jpg', 'frames 103.5 sec.jpg', 'frames 103.6 sec.jpg', 'frames 103.7 sec.jpg', 'frames 103.8 sec.jpg', 'frames 103.9 sec.jpg', 'frames 104.0 sec.jpg', 'frames 104.1 sec.jpg', 'frames 104.2 sec.jpg', 'frames 104.3 sec.jpg', 'frames 104.4 sec.jpg', 'frames 104.5 sec.jpg', 'frames 104.6 sec.jpg', 'frames 104.7 sec.jpg', 'frames 104.8 sec.jpg', 'frames 104.9 sec.jpg', 'frames 105.0 sec.jpg', 'frames 105.1 sec.jpg', 'frames 105.2 sec.jpg', 'frames 105.3 sec.jpg', 'frames 105.4 sec.jpg', 'frames 105.5 sec.jpg', 'frames 105.6 sec.jpg', 'frames 105.7 sec.jpg', 'frames 105.8 sec.jpg', 'frames 105.9 sec.jpg', 'frames 106.0 sec.jpg', 'frames 106.1 sec.jpg', 'frames 106.2 sec.jpg', 'frames 106.3 sec.jpg', 'frames 106.4 sec.jpg', 'frames 106.5 sec.jpg', 'frames 106.6 sec.jpg', 'frames 106.7 sec.jpg', 'frames 106.8 sec.jpg', 'frames 106.9 sec.jpg', 'frames 107.0 sec.jpg', 'frames 107.1 sec.jpg', 'frames 107.2 sec.jpg', 'frames 107.3 sec.jpg', 'frames 107.4 sec.jpg', 'frames 107.5 sec.jpg', 'frames 107.6 sec.jpg', 'frames 107.7 sec.jpg', 'frames 107.8 sec.jpg', 'frames 107.9 sec.jpg', 'frames 108.0 sec.jpg', 'frames 108.1 sec.jpg', 'frames 108.2 sec.jpg', 'frames 108.3 sec.jpg', 'frames 108.4 sec.jpg', 'frames 108.5 sec.jpg', 'frames 108.6 sec.jpg', 'frames 108.7 sec.jpg', 'frames 108.8 sec.jpg', 'frames 108.9 sec.jpg', 'frames 109.0 sec.jpg', 'frames 109.1 sec.jpg', 'frames 109.2 sec.jpg', 'frames 109.3 sec.jpg', 'frames 109.4 sec.jpg', 'frames 109.5 sec.jpg', 'frames 109.6 sec.jpg', 'frames 109.7 sec.jpg', 'frames 109.8 sec.jpg', 'frames 109.9 sec.jpg', 'frames 11.0 sec.jpg', 'frames 11.1 sec.jpg', 'frames 11.2 sec.jpg', 'frames 11.3 sec.jpg', 'frames 11.4 sec.jpg', 'frames 11.5 sec.jpg', 'frames 11.6 sec.jpg', 'frames 11.7 sec.jpg', 'frames 11.8 sec.jpg', 'frames 11.9 sec.jpg', 'frames 110.0 sec.jpg', 'frames 110.1 sec.jpg', 'frames 110.2 sec.jpg', 'frames 110.3 sec.jpg', 'frames 110.4 sec.jpg', 'frames 110.5 sec.jpg', 'frames 110.6 sec.jpg', 'frames 110.7 sec.jpg', 'frames 110.8 sec.jpg', 'frames 110.9 sec.jpg', 'frames 111.0 sec.jpg', 'frames 111.1 sec.jpg', 'frames 12.0 sec.jpg', 'frames 13.0 sec.jpg', 'frames 14.0 sec.jpg', 'frames 15.0 sec.jpg', 'frames 16.0 sec.jpg', 'frames 17.0 sec.jpg', 'frames 17.1 sec.jpg', 'frames 17.2 sec.jpg', 'frames 17.3 sec.jpg', 'frames 17.4 sec.jpg', 'frames 17.5 sec.jpg', 'frames 17.6 sec.jpg', 'frames 17.7 sec.jpg', 'frames 17.8 sec.jpg', 'frames 17.9 sec.jpg', 'frames 18.0 sec.jpg', 'frames 18.1 sec.jpg', 'frames 18.2 sec.jpg', 'frames 18.3 sec.jpg', 'frames 18.4 sec.jpg', 'frames 18.5 sec.jpg', 'frames 18.6 sec.jpg', 'frames 18.7 sec.jpg', 'frames 18.8 sec.jpg', 'frames 18.9 sec.jpg', 'frames 19.0 sec.jpg', 'frames 19.1 sec.jpg', 'frames 19.2 sec.jpg', 'frames 19.3 sec.jpg', 'frames 19.4 sec.jpg', 'frames 19.5 sec.jpg', 'frames 19.6 sec.jpg', 'frames 19.7 sec.jpg', 'frames 19.8 sec.jpg', 'frames 19.9 sec.jpg', 'frames 2.0 sec.jpg', 'frames 2.9 sec.jpg', 'frames 20.0 sec.jpg', 'frames 20.1 sec.jpg', 'frames 20.2 sec.jpg', 'frames 20.3 sec.jpg', 'frames 20.4 sec.jpg', 'frames 20.5 sec.jpg', 'frames 20.6 sec.jpg', 'frames 20.7 sec.jpg', 'frames 20.8 sec.jpg', 'frames 20.9 sec.jpg', 'frames 21.0 sec.jpg', 'frames 21.1 sec.jpg', 'frames 21.2 sec.jpg', 'frames 21.3 sec.jpg', 'frames 21.4 sec.jpg', 'frames 21.5 sec.jpg', 'frames 21.6 sec.jpg', 'frames 21.7 sec.jpg', 'frames 21.8 sec.jpg', 'frames 21.9 sec.jpg', 'frames 22.0 sec.jpg', 'frames 22.1 sec.jpg', 'frames 22.2 sec.jpg', 'frames 22.3 sec.jpg', 'frames 22.4 sec.jpg', 'frames 22.5 sec.jpg', 'frames 22.6 sec.jpg', 'frames 22.7 sec.jpg', 'frames 22.8 sec.jpg', 'frames 22.9 sec.jpg', 'frames 23.0 sec.jpg', 'frames 23.1 sec.jpg', 'frames 23.2 sec.jpg', 'frames 23.3 sec.jpg', 'frames 23.4 sec.jpg', 'frames 23.5 sec.jpg', 'frames 23.6 sec.jpg', 'frames 23.7 sec.jpg', 'frames 23.8 sec.jpg', 'frames 23.9 sec.jpg', 'frames 24.0 sec.jpg', 'frames 24.1 sec.jpg', 'frames 24.2 sec.jpg', 'frames 24.3 sec.jpg', 'frames 24.4 sec.jpg', 'frames 24.5 sec.jpg', 'frames 24.6 sec.jpg', 'frames 24.7 sec.jpg', 'frames 24.8 sec.jpg', 'frames 24.9 sec.jpg', 'frames 25.0 sec.jpg', 'frames 25.1 sec.jpg', 'frames 25.2 sec.jpg', 'frames 25.3 sec.jpg', 'frames 25.4 sec.jpg', 'frames 25.5 sec.jpg', 'frames 25.6 sec.jpg', 'frames 25.7 sec.jpg', 'frames 25.8 sec.jpg', 'frames 25.9 sec.jpg', 'frames 26.0 sec.jpg', 'frames 26.1 sec.jpg', 'frames 26.2 sec.jpg', 'frames 26.3 sec.jpg', 'frames 26.4 sec.jpg', 'frames 26.5 sec.jpg', 'frames 26.6 sec.jpg', 'frames 26.7 sec.jpg', 'frames 26.8 sec.jpg', 'frames 26.9 sec.jpg', 'frames 27.0 sec.jpg', 'frames 27.1 sec.jpg', 'frames 27.2 sec.jpg', 'frames 27.3 sec.jpg', 'frames 27.4 sec.jpg', 'frames 27.5 sec.jpg', 'frames 27.6 sec.jpg', 'frames 27.7 sec.jpg', 'frames 27.8 sec.jpg', 'frames 27.9 sec.jpg', 'frames 28.0 sec.jpg', 'frames 28.1 sec.jpg', 'frames 28.2 sec.jpg', 'frames 28.3 sec.jpg', 'frames 28.4 sec.jpg', 'frames 28.5 sec.jpg', 'frames 28.6 sec.jpg', 'frames 28.7 sec.jpg', 'frames 28.8 sec.jpg', 'frames 28.9 sec.jpg', 'frames 29.0 sec.jpg', 'frames 29.1 sec.jpg', 'frames 29.2 sec.jpg', 'frames 29.3 sec.jpg', 'frames 29.4 sec.jpg', 'frames 29.5 sec.jpg', 'frames 29.6 sec.jpg', 'frames 29.7 sec.jpg', 'frames 29.8 sec.jpg', 'frames 29.9 sec.jpg', 'frames 3.0 sec.jpg', 'frames 3.9 sec.jpg', 'frames 30.0 sec.jpg', 'frames 30.1 sec.jpg', 'frames 30.2 sec.jpg', 'frames 30.3 sec.jpg', 'frames 30.4 sec.jpg', 'frames 30.5 sec.jpg', 'frames 30.6 sec.jpg', 'frames 30.7 sec.jpg', 'frames 30.8 sec.jpg', 'frames 30.9 sec.jpg', 'frames 31.0 sec.jpg', 'frames 31.1 sec.jpg', 'frames 31.2 sec.jpg', 'frames 31.3 sec.jpg', 'frames 31.4 sec.jpg', 'frames 31.5 sec.jpg', 'frames 31.6 sec.jpg', 'frames 31.7 sec.jpg', 'frames 31.8 sec.jpg', 'frames 31.9 sec.jpg', 'frames 32.0 sec.jpg', 'frames 32.1 sec.jpg', 'frames 32.2 sec.jpg', 'frames 32.3 sec.jpg', 'frames 32.4 sec.jpg', 'frames 32.5 sec.jpg', 'frames 32.6 sec.jpg', 'frames 32.7 sec.jpg', 'frames 32.8 sec.jpg', 'frames 32.9 sec.jpg', 'frames 33.0 sec.jpg', 'frames 33.1 sec.jpg', 'frames 33.2 sec.jpg', 'frames 33.3 sec.jpg', 'frames 33.4 sec.jpg', 'frames 33.5 sec.jpg', 'frames 33.6 sec.jpg', 'frames 33.7 sec.jpg', 'frames 33.8 sec.jpg', 'frames 33.9 sec.jpg', 'frames 34.0 sec.jpg', 'frames 34.1 sec.jpg', 'frames 34.2 sec.jpg', 'frames 34.3 sec.jpg', 'frames 34.4 sec.jpg', 'frames 34.5 sec.jpg', 'frames 34.6 sec.jpg', 'frames 34.7 sec.jpg', 'frames 34.8 sec.jpg', 'frames 34.9 sec.jpg', 'frames 35.0 sec.jpg', 'frames 35.1 sec.jpg', 'frames 35.2 sec.jpg', 'frames 35.3 sec.jpg', 'frames 35.4 sec.jpg', 'frames 35.5 sec.jpg', 'frames 35.6 sec.jpg', 'frames 35.7 sec.jpg', 'frames 35.8 sec.jpg', 'frames 35.9 sec.jpg', 'frames 36.0 sec.jpg', 'frames 36.1 sec.jpg', 'frames 36.2 sec.jpg', 'frames 36.3 sec.jpg', 'frames 36.4 sec.jpg', 'frames 36.5 sec.jpg', 'frames 36.6 sec.jpg', 'frames 36.7 sec.jpg', 'frames 36.8 sec.jpg', 'frames 36.9 sec.jpg', 'frames 37.0 sec.jpg', 'frames 37.1 sec.jpg', 'frames 37.2 sec.jpg', 'frames 37.3 sec.jpg', 'frames 37.4 sec.jpg', 'frames 37.5 sec.jpg', 'frames 37.6 sec.jpg', 'frames 37.7 sec.jpg', 'frames 37.8 sec.jpg', 'frames 37.9 sec.jpg', 'frames 38.0 sec.jpg', 'frames 38.1 sec.jpg', 'frames 38.2 sec.jpg', 'frames 38.3 sec.jpg', 'frames 38.4 sec.jpg', 'frames 38.5 sec.jpg', 'frames 38.6 sec.jpg', 'frames 38.7 sec.jpg', 'frames 38.8 sec.jpg', 'frames 38.9 sec.jpg', 'frames 39.0 sec.jpg', 'frames 39.1 sec.jpg', 'frames 39.2 sec.jpg', 'frames 39.3 sec.jpg', 'frames 39.4 sec.jpg', 'frames 39.5 sec.jpg', 'frames 39.6 sec.jpg', 'frames 39.7 sec.jpg', 'frames 39.8 sec.jpg', 'frames 39.9 sec.jpg', 'frames 4.0 sec.jpg', 'frames 40.0 sec.jpg', 'frames 40.1 sec.jpg', 'frames 40.2 sec.jpg', 'frames 40.3 sec.jpg', 'frames 40.4 sec.jpg', 'frames 40.5 sec.jpg', 'frames 40.6 sec.jpg', 'frames 40.7 sec.jpg', 'frames 40.8 sec.jpg', 'frames 40.9 sec.jpg', 'frames 41.0 sec.jpg', 'frames 41.1 sec.jpg', 'frames 41.2 sec.jpg', 'frames 41.3 sec.jpg', 'frames 41.4 sec.jpg', 'frames 41.5 sec.jpg', 'frames 41.6 sec.jpg', 'frames 41.7 sec.jpg', 'frames 41.8 sec.jpg', 'frames 41.9 sec.jpg', 'frames 42.0 sec.jpg', 'frames 42.1 sec.jpg', 'frames 42.2 sec.jpg', 'frames 42.3 sec.jpg', 'frames 42.4 sec.jpg', 'frames 42.5 sec.jpg', 'frames 42.6 sec.jpg', 'frames 42.7 sec.jpg', 'frames 42.8 sec.jpg', 'frames 42.9 sec.jpg', 'frames 43.0 sec.jpg', 'frames 43.1 sec.jpg', 'frames 43.2 sec.jpg', 'frames 43.3 sec.jpg', 'frames 43.4 sec.jpg', 'frames 43.5 sec.jpg', 'frames 43.6 sec.jpg', 'frames 43.7 sec.jpg', 'frames 43.8 sec.jpg', 'frames 43.9 sec.jpg', 'frames 44.0 sec.jpg', 'frames 44.1 sec.jpg', 'frames 44.2 sec.jpg', 'frames 44.3 sec.jpg', 'frames 44.4 sec.jpg', 'frames 44.5 sec.jpg', 'frames 44.6 sec.jpg', 'frames 44.7 sec.jpg', 'frames 44.8 sec.jpg', 'frames 44.9 sec.jpg', 'frames 45.0 sec.jpg', 'frames 45.1 sec.jpg', 'frames 45.2 sec.jpg', 'frames 45.3 sec.jpg', 'frames 45.4 sec.jpg', 'frames 45.5 sec.jpg', 'frames 45.6 sec.jpg', 'frames 45.7 sec.jpg', 'frames 45.8 sec.jpg', 'frames 45.9 sec.jpg', 'frames 46.0 sec.jpg', 'frames 46.1 sec.jpg', 'frames 46.2 sec.jpg', 'frames 46.3 sec.jpg', 'frames 46.4 sec.jpg', 'frames 46.5 sec.jpg', 'frames 46.6 sec.jpg', 'frames 46.7 sec.jpg', 'frames 46.8 sec.jpg', 'frames 46.9 sec.jpg', 'frames 47.0 sec.jpg', 'frames 47.1 sec.jpg', 'frames 47.2 sec.jpg', 'frames 47.3 sec.jpg', 'frames 47.4 sec.jpg', 'frames 47.5 sec.jpg', 'frames 47.6 sec.jpg', 'frames 47.7 sec.jpg', 'frames 47.8 sec.jpg', 'frames 47.9 sec.jpg', 'frames 48.0 sec.jpg', 'frames 48.1 sec.jpg', 'frames 48.2 sec.jpg', 'frames 48.3 sec.jpg', 'frames 48.4 sec.jpg', 'frames 48.5 sec.jpg', 'frames 48.6 sec.jpg', 'frames 48.7 sec.jpg', 'frames 48.8 sec.jpg', 'frames 48.9 sec.jpg', 'frames 49.0 sec.jpg', 'frames 49.1 sec.jpg', 'frames 49.2 sec.jpg', 'frames 49.3 sec.jpg', 'frames 49.4 sec.jpg', 'frames 49.5 sec.jpg', 'frames 49.6 sec.jpg', 'frames 49.7 sec.jpg', 'frames 49.8 sec.jpg', 'frames 49.9 sec.jpg', 'frames 50.0 sec.jpg', 'frames 50.1 sec.jpg', 'frames 50.2 sec.jpg', 'frames 50.3 sec.jpg', 'frames 50.4 sec.jpg', 'frames 50.5 sec.jpg', 'frames 50.6 sec.jpg', 'frames 50.7 sec.jpg', 'frames 50.8 sec.jpg', 'frames 50.9 sec.jpg', 'frames 51.0 sec.jpg', 'frames 51.1 sec.jpg', 'frames 51.2 sec.jpg', 'frames 51.3 sec.jpg', 'frames 51.4 sec.jpg', 'frames 51.5 sec.jpg', 'frames 51.6 sec.jpg', 'frames 51.7 sec.jpg', 'frames 51.8 sec.jpg', 'frames 51.9 sec.jpg', 'frames 52.0 sec.jpg', 'frames 52.1 sec.jpg', 'frames 52.2 sec.jpg', 'frames 52.3 sec.jpg', 'frames 52.4 sec.jpg', 'frames 52.5 sec.jpg', 'frames 52.6 sec.jpg', 'frames 52.7 sec.jpg', 'frames 52.8 sec.jpg', 'frames 52.9 sec.jpg', 'frames 53.0 sec.jpg', 'frames 53.1 sec.jpg', 'frames 53.2 sec.jpg', 'frames 53.3 sec.jpg', 'frames 53.4 sec.jpg', 'frames 53.5 sec.jpg', 'frames 53.6 sec.jpg', 'frames 53.7 sec.jpg', 'frames 53.8 sec.jpg', 'frames 53.9 sec.jpg', 'frames 54.0 sec.jpg', 'frames 54.1 sec.jpg', 'frames 54.2 sec.jpg', 'frames 54.3 sec.jpg', 'frames 54.4 sec.jpg', 'frames 54.5 sec.jpg', 'frames 54.6 sec.jpg', 'frames 54.7 sec.jpg', 'frames 54.8 sec.jpg', 'frames 54.9 sec.jpg', 'frames 55.0 sec.jpg', 'frames 55.1 sec.jpg', 'frames 55.2 sec.jpg', 'frames 55.3 sec.jpg', 'frames 55.4 sec.jpg', 'frames 55.5 sec.jpg', 'frames 55.6 sec.jpg', 'frames 55.7 sec.jpg', 'frames 55.8 sec.jpg', 'frames 55.9 sec.jpg', 'frames 56.0 sec.jpg', 'frames 56.1 sec.jpg', 'frames 56.2 sec.jpg', 'frames 56.3 sec.jpg', 'frames 56.4 sec.jpg', 'frames 56.5 sec.jpg', 'frames 56.6 sec.jpg', 'frames 56.7 sec.jpg', 'frames 56.8 sec.jpg', 'frames 56.9 sec.jpg', 'frames 57.0 sec.jpg', 'frames 57.1 sec.jpg', 'frames 57.2 sec.jpg', 'frames 57.3 sec.jpg', 'frames 57.4 sec.jpg', 'frames 57.5 sec.jpg', 'frames 57.6 sec.jpg', 'frames 57.7 sec.jpg', 'frames 57.8 sec.jpg', 'frames 57.9 sec.jpg', 'frames 58.0 sec.jpg', 'frames 58.1 sec.jpg', 'frames 58.2 sec.jpg', 'frames 58.3 sec.jpg', 'frames 58.4 sec.jpg', 'frames 58.5 sec.jpg', 'frames 58.6 sec.jpg', 'frames 58.7 sec.jpg', 'frames 58.8 sec.jpg', 'frames 58.9 sec.jpg', 'frames 59.0 sec.jpg', 'frames 59.1 sec.jpg', 'frames 59.2 sec.jpg', 'frames 59.3 sec.jpg', 'frames 59.4 sec.jpg', 'frames 59.5 sec.jpg', 'frames 59.6 sec.jpg', 'frames 59.7 sec.jpg', 'frames 59.8 sec.jpg', 'frames 59.9 sec.jpg', 'frames 6.8 sec.jpg', 'frames 60.0 sec.jpg', 'frames 60.1 sec.jpg', 'frames 60.2 sec.jpg', 'frames 60.3 sec.jpg', 'frames 60.4 sec.jpg', 'frames 60.5 sec.jpg', 'frames 60.6 sec.jpg', 'frames 60.7 sec.jpg', 'frames 60.8 sec.jpg', 'frames 60.9 sec.jpg', 'frames 61.0 sec.jpg', 'frames 61.1 sec.jpg', 'frames 61.2 sec.jpg', 'frames 61.3 sec.jpg', 'frames 61.4 sec.jpg', 'frames 61.5 sec.jpg', 'frames 61.6 sec.jpg', 'frames 61.7 sec.jpg', 'frames 61.8 sec.jpg', 'frames 61.9 sec.jpg', 'frames 62.0 sec.jpg', 'frames 62.1 sec.jpg', 'frames 62.2 sec.jpg', 'frames 62.3 sec.jpg', 'frames 62.4 sec.jpg', 'frames 62.5 sec.jpg', 'frames 62.6 sec.jpg', 'frames 62.7 sec.jpg', 'frames 62.8 sec.jpg', 'frames 62.9 sec.jpg', 'frames 63.0 sec.jpg', 'frames 63.1 sec.jpg', 'frames 63.2 sec.jpg', 'frames 63.3 sec.jpg', 'frames 63.4 sec.jpg', 'frames 63.5 sec.jpg', 'frames 63.6 sec.jpg', 'frames 63.7 sec.jpg', 'frames 63.8 sec.jpg', 'frames 63.9 sec.jpg', 'frames 64.0 sec.jpg', 'frames 64.1 sec.jpg', 'frames 64.2 sec.jpg', 'frames 64.3 sec.jpg', 'frames 64.4 sec.jpg', 'frames 64.5 sec.jpg', 'frames 64.6 sec.jpg', 'frames 64.7 sec.jpg', 'frames 64.8 sec.jpg', 'frames 64.9 sec.jpg', 'frames 65.0 sec.jpg', 'frames 65.1 sec.jpg', 'frames 65.2 sec.jpg', 'frames 65.3 sec.jpg', 'frames 65.4 sec.jpg', 'frames 65.5 sec.jpg', 'frames 65.6 sec.jpg', 'frames 65.7 sec.jpg', 'frames 65.8 sec.jpg', 'frames 65.9 sec.jpg', 'frames 66.0 sec.jpg', 'frames 66.1 sec.jpg', 'frames 66.2 sec.jpg', 'frames 66.3 sec.jpg', 'frames 66.4 sec.jpg', 'frames 66.5 sec.jpg', 'frames 66.6 sec.jpg', 'frames 66.7 sec.jpg', 'frames 66.8 sec.jpg', 'frames 66.9 sec.jpg', 'frames 67.0 sec.jpg', 'frames 67.1 sec.jpg', 'frames 67.2 sec.jpg', 'frames 67.3 sec.jpg', 'frames 67.4 sec.jpg', 'frames 67.5 sec.jpg', 'frames 67.6 sec.jpg', 'frames 67.7 sec.jpg', 'frames 67.8 sec.jpg', 'frames 67.9 sec.jpg', 'frames 68.0 sec.jpg', 'frames 68.1 sec.jpg', 'frames 68.2 sec.jpg', 'frames 68.3 sec.jpg', 'frames 68.4 sec.jpg', 'frames 68.5 sec.jpg', 'frames 68.6 sec.jpg', 'frames 68.7 sec.jpg', 'frames 68.8 sec.jpg', 'frames 68.9 sec.jpg', 'frames 69.0 sec.jpg', 'frames 69.1 sec.jpg', 'frames 69.2 sec.jpg', 'frames 69.3 sec.jpg', 'frames 69.4 sec.jpg', 'frames 69.5 sec.jpg', 'frames 69.6 sec.jpg', 'frames 69.7 sec.jpg', 'frames 69.8 sec.jpg', 'frames 69.9 sec.jpg', 'frames 70.0 sec.jpg', 'frames 70.1 sec.jpg', 'frames 70.2 sec.jpg', 'frames 70.3 sec.jpg', 'frames 70.4 sec.jpg', 'frames 70.5 sec.jpg', 'frames 70.6 sec.jpg', 'frames 70.7 sec.jpg', 'frames 70.8 sec.jpg', 'frames 70.9 sec.jpg', 'frames 71.0 sec.jpg', 'frames 71.1 sec.jpg', 'frames 71.2 sec.jpg', 'frames 71.3 sec.jpg', 'frames 71.4 sec.jpg', 'frames 71.5 sec.jpg', 'frames 71.6 sec.jpg', 'frames 71.7 sec.jpg', 'frames 71.8 sec.jpg', 'frames 71.9 sec.jpg', 'frames 72.0 sec.jpg', 'frames 72.1 sec.jpg', 'frames 72.2 sec.jpg', 'frames 72.3 sec.jpg', 'frames 72.4 sec.jpg', 'frames 72.5 sec.jpg', 'frames 72.6 sec.jpg', 'frames 72.7 sec.jpg', 'frames 72.8 sec.jpg', 'frames 72.9 sec.jpg', 'frames 73.0 sec.jpg', 'frames 73.1 sec.jpg', 'frames 73.2 sec.jpg', 'frames 73.3 sec.jpg', 'frames 73.4 sec.jpg', 'frames 73.5 sec.jpg', 'frames 73.6 sec.jpg', 'frames 73.7 sec.jpg', 'frames 73.8 sec.jpg', 'frames 73.9 sec.jpg', 'frames 74.0 sec.jpg', 'frames 74.1 sec.jpg', 'frames 74.2 sec.jpg', 'frames 74.3 sec.jpg', 'frames 74.4 sec.jpg', 'frames 74.5 sec.jpg', 'frames 74.6 sec.jpg', 'frames 74.7 sec.jpg', 'frames 74.8 sec.jpg', 'frames 74.9 sec.jpg', 'frames 75.0 sec.jpg', 'frames 75.1 sec.jpg', 'frames 75.2 sec.jpg', 'frames 75.3 sec.jpg', 'frames 75.4 sec.jpg', 'frames 75.5 sec.jpg', 'frames 75.6 sec.jpg', 'frames 75.7 sec.jpg', 'frames 75.8 sec.jpg', 'frames 75.9 sec.jpg', 'frames 76.0 sec.jpg', 'frames 76.1 sec.jpg', 'frames 76.2 sec.jpg', 'frames 76.3 sec.jpg', 'frames 76.4 sec.jpg', 'frames 76.5 sec.jpg', 'frames 76.6 sec.jpg', 'frames 76.7 sec.jpg', 'frames 76.8 sec.jpg', 'frames 76.9 sec.jpg', 'frames 77.0 sec.jpg', 'frames 77.1 sec.jpg', 'frames 77.2 sec.jpg', 'frames 77.3 sec.jpg', 'frames 77.4 sec.jpg', 'frames 77.5 sec.jpg', 'frames 77.6 sec.jpg', 'frames 77.7 sec.jpg', 'frames 77.8 sec.jpg', 'frames 77.9 sec.jpg', 'frames 78.0 sec.jpg', 'frames 78.1 sec.jpg', 'frames 78.2 sec.jpg', 'frames 78.3 sec.jpg', 'frames 78.4 sec.jpg', 'frames 78.5 sec.jpg', 'frames 78.6 sec.jpg', 'frames 78.7 sec.jpg', 'frames 78.8 sec.jpg', 'frames 78.9 sec.jpg', 'frames 79.0 sec.jpg', 'frames 79.1 sec.jpg', 'frames 79.2 sec.jpg', 'frames 79.3 sec.jpg', 'frames 79.4 sec.jpg', 'frames 79.5 sec.jpg', 'frames 79.6 sec.jpg', 'frames 79.7 sec.jpg', 'frames 79.8 sec.jpg', 'frames 79.9 sec.jpg', 'frames 8.4 sec.jpg', 'frames 80.0 sec.jpg', 'frames 80.1 sec.jpg', 'frames 80.2 sec.jpg', 'frames 80.3 sec.jpg', 'frames 80.4 sec.jpg', 'frames 80.5 sec.jpg', 'frames 80.6 sec.jpg', 'frames 80.7 sec.jpg', 'frames 80.8 sec.jpg', 'frames 80.9 sec.jpg', 'frames 81.0 sec.jpg', 'frames 81.1 sec.jpg', 'frames 81.2 sec.jpg', 'frames 81.3 sec.jpg', 'frames 81.4 sec.jpg', 'frames 81.5 sec.jpg', 'frames 81.6 sec.jpg', 'frames 81.7 sec.jpg', 'frames 81.8 sec.jpg', 'frames 81.9 sec.jpg', 'frames 82.0 sec.jpg', 'frames 82.1 sec.jpg', 'frames 82.2 sec.jpg', 'frames 82.3 sec.jpg', 'frames 82.4 sec.jpg', 'frames 82.5 sec.jpg', 'frames 82.6 sec.jpg', 'frames 82.7 sec.jpg', 'frames 82.8 sec.jpg', 'frames 82.9 sec.jpg', 'frames 83.0 sec.jpg', 'frames 83.1 sec.jpg', 'frames 83.2 sec.jpg', 'frames 83.3 sec.jpg', 'frames 83.4 sec.jpg', 'frames 83.5 sec.jpg', 'frames 83.6 sec.jpg', 'frames 83.7 sec.jpg', 'frames 83.8 sec.jpg', 'frames 83.9 sec.jpg', 'frames 84.0 sec.jpg', 'frames 84.1 sec.jpg', 'frames 84.2 sec.jpg', 'frames 84.3 sec.jpg', 'frames 84.4 sec.jpg', 'frames 84.5 sec.jpg', 'frames 84.6 sec.jpg', 'frames 84.7 sec.jpg', 'frames 84.8 sec.jpg', 'frames 84.9 sec.jpg', 'frames 85.0 sec.jpg', 'frames 85.1 sec.jpg', 'frames 85.2 sec.jpg', 'frames 85.3 sec.jpg', 'frames 85.4 sec.jpg', 'frames 85.5 sec.jpg', 'frames 85.6 sec.jpg', 'frames 85.7 sec.jpg', 'frames 85.8 sec.jpg', 'frames 85.9 sec.jpg', 'frames 86.0 sec.jpg', 'frames 86.1 sec.jpg', 'frames 86.2 sec.jpg', 'frames 86.3 sec.jpg', 'frames 86.4 sec.jpg', 'frames 86.5 sec.jpg', 'frames 86.6 sec.jpg', 'frames 86.7 sec.jpg', 'frames 86.8 sec.jpg', 'frames 86.9 sec.jpg', 'frames 87.0 sec.jpg', 'frames 87.1 sec.jpg', 'frames 87.2 sec.jpg', 'frames 87.3 sec.jpg', 'frames 87.4 sec.jpg', 'frames 87.5 sec.jpg', 'frames 87.6 sec.jpg', 'frames 87.7 sec.jpg', 'frames 87.8 sec.jpg', 'frames 87.9 sec.jpg', 'frames 88.0 sec.jpg', 'frames 88.1 sec.jpg', 'frames 88.2 sec.jpg', 'frames 88.3 sec.jpg', 'frames 88.4 sec.jpg', 'frames 88.5 sec.jpg', 'frames 88.6 sec.jpg', 'frames 88.7 sec.jpg', 'frames 88.8 sec.jpg', 'frames 88.9 sec.jpg', 'frames 89.0 sec.jpg', 'frames 89.1 sec.jpg', 'frames 89.2 sec.jpg', 'frames 89.3 sec.jpg', 'frames 89.4 sec.jpg', 'frames 89.5 sec.jpg', 'frames 89.6 sec.jpg', 'frames 89.7 sec.jpg', 'frames 89.8 sec.jpg', 'frames 89.9 sec.jpg', 'frames 9.4 sec.jpg', 'frames 90.0 sec.jpg', 'frames 90.1 sec.jpg', 'frames 90.2 sec.jpg', 'frames 90.3 sec.jpg', 'frames 90.4 sec.jpg', 'frames 90.5 sec.jpg', 'frames 90.6 sec.jpg', 'frames 90.7 sec.jpg', 'frames 90.8 sec.jpg', 'frames 90.9 sec.jpg', 'frames 91.0 sec.jpg', 'frames 91.1 sec.jpg', 'frames 91.2 sec.jpg', 'frames 91.3 sec.jpg', 'frames 91.4 sec.jpg', 'frames 91.5 sec.jpg', 'frames 91.6 sec.jpg', 'frames 91.7 sec.jpg', 'frames 91.8 sec.jpg', 'frames 91.9 sec.jpg', 'frames 92.0 sec.jpg', 'frames 92.1 sec.jpg', 'frames 92.2 sec.jpg', 'frames 92.3 sec.jpg', 'frames 92.4 sec.jpg', 'frames 92.5 sec.jpg', 'frames 92.6 sec.jpg', 'frames 92.7 sec.jpg', 'frames 92.8 sec.jpg', 'frames 92.9 sec.jpg', 'frames 93.0 sec.jpg', 'frames 93.1 sec.jpg', 'frames 93.2 sec.jpg', 'frames 93.3 sec.jpg', 'frames 93.4 sec.jpg', 'frames 93.5 sec.jpg', 'frames 93.6 sec.jpg', 'frames 93.7 sec.jpg', 'frames 93.8 sec.jpg', 'frames 93.9 sec.jpg', 'frames 94.0 sec.jpg', 'frames 94.1 sec.jpg', 'frames 94.2 sec.jpg', 'frames 94.3 sec.jpg', 'frames 94.4 sec.jpg', 'frames 94.5 sec.jpg', 'frames 94.6 sec.jpg', 'frames 94.7 sec.jpg', 'frames 94.8 sec.jpg', 'frames 94.9 sec.jpg', 'frames 95.0 sec.jpg', 'frames 95.1 sec.jpg', 'frames 95.2 sec.jpg', 'frames 95.3 sec.jpg', 'frames 95.4 sec.jpg', 'frames 95.5 sec.jpg', 'frames 95.6 sec.jpg', 'frames 95.7 sec.jpg', 'frames 95.8 sec.jpg', 'frames 95.9 sec.jpg', 'frames 96.0 sec.jpg', 'frames 96.1 sec.jpg', 'frames 96.2 sec.jpg', 'frames 96.3 sec.jpg', 'frames 96.4 sec.jpg', 'frames 96.5 sec.jpg', 'frames 96.6 sec.jpg', 'frames 96.7 sec.jpg', 'frames 96.8 sec.jpg', 'frames 96.9 sec.jpg', 'frames 97.0 sec.jpg', 'frames 97.1 sec.jpg', 'frames 97.2 sec.jpg', 'frames 97.3 sec.jpg', 'frames 97.4 sec.jpg', 'frames 97.5 sec.jpg', 'frames 97.6 sec.jpg', 'frames 97.7 sec.jpg', 'frames 97.8 sec.jpg', 'frames 97.9 sec.jpg', 'frames 98.0 sec.jpg', 'frames 98.1 sec.jpg', 'frames 98.2 sec.jpg', 'frames 98.3 sec.jpg', 'frames 98.4 sec.jpg', 'frames 98.5 sec.jpg', 'frames 98.6 sec.jpg', 'frames 98.7 sec.jpg', 'frames 98.8 sec.jpg', 'frames 98.9 sec.jpg', 'frames 99.0 sec.jpg', 'frames 99.1 sec.jpg', 'frames 99.2 sec.jpg', 'frames 99.3 sec.jpg', 'frames 99.4 sec.jpg', 'frames 99.5 sec.jpg', 'frames 99.6 sec.jpg', 'frames 99.7 sec.jpg', 'frames 99.8 sec.jpg', 'frames 99.9 sec.jpg'])\n",
      "dict_keys(['frame 0.1 sec.jpg', 'frame 0.2 sec.jpg', 'frame 0.3 sec.jpg', 'frame 0.4 sec.jpg', 'frame 0.5 sec.jpg', 'frame 0.6 sec.jpg', 'frame 0.7 sec.jpg', 'frame 0.8 sec.jpg', 'frame 0.9 sec.jpg', 'frame 109.7 sec.jpg', 'frame 109.8 sec.jpg', 'frame 109.9 sec.jpg', 'frame 110.0 sec.jpg', 'frame 110.1 sec.jpg', 'frame 110.2 sec.jpg', 'frame 110.3 sec.jpg', 'frame 110.4 sec.jpg', 'frame 110.5 sec.jpg', 'frame 110.6 sec.jpg', 'frame 110.7 sec.jpg', 'frame 110.8 sec.jpg', 'frame 110.9 sec.jpg', 'frame 111.0 sec.jpg', 'frame 111.1 sec.jpg', 'frame 111.2 sec.jpg', 'frame 111.3 sec.jpg', 'frame 111.4 sec.jpg', 'frame 111.5 sec.jpg', 'frame 111.6 sec.jpg', 'frame 111.7 sec.jpg', 'frame 111.8 sec.jpg', 'frame 111.9 sec.jpg', 'frame 112.0 sec.jpg', 'frame 112.1 sec.jpg', 'frame 112.2 sec.jpg', 'frame 112.3 sec.jpg', 'frame 112.4 sec.jpg', 'frame 112.5 sec.jpg', 'frame 112.6 sec.jpg', 'frame 116.5 sec.jpg', 'frame 116.6 sec.jpg', 'frame 117.5 sec.jpg', 'frame 117.6 sec.jpg', 'frame 118.5 sec.jpg', 'frame 118.6 sec.jpg', 'frame 119.5 sec.jpg', 'frame 119.6 sec.jpg', 'frame 120.5 sec.jpg', 'frame 120.6 sec.jpg', 'frame 121.5 sec.jpg', 'frame 121.6 sec.jpg', 'frame 122.5 sec.jpg', 'frame 122.6 sec.jpg', 'frame 123.5 sec.jpg', 'frame 123.6 sec.jpg', 'frame 123.7 sec.jpg', 'frame 123.8 sec.jpg', 'frame 123.9 sec.jpg', 'frame 124.0 sec.jpg', 'frame 124.1 sec.jpg', 'frame 124.2 sec.jpg', 'frame 124.3 sec.jpg', 'frame 124.4 sec.jpg', 'frame 124.5 sec.jpg', 'frame 124.6 sec.jpg', 'frame 124.7 sec.jpg', 'frame 124.8 sec.jpg', 'frame 124.9 sec.jpg', 'frame 125.0 sec.jpg', 'frame 125.9 sec.jpg', 'frame 22.4 sec.jpg', 'frame 22.5 sec.jpg', 'frame 22.6 sec.jpg', 'frame 22.7 sec.jpg', 'frame 22.8 sec.jpg', 'frame 22.9 sec.jpg', 'frame 23.0 sec.jpg', 'frame 26.8 sec.jpg', 'frame 26.9 sec.jpg', 'frame 27.0 sec.jpg', 'frame 27.8 sec.jpg', 'frame 27.9 sec.jpg', 'frame 28.0 sec.jpg', 'frame 32.8 sec.jpg', 'frame 32.9 sec.jpg', 'frame 33.0 sec.jpg', 'frame 33.8 sec.jpg', 'frame 33.9 sec.jpg', 'frame 34.0 sec.jpg', 'frame 34.8 sec.jpg', 'frame 34.9 sec.jpg', 'frame 35.0 sec.jpg', 'frame 35.1 sec.jpg', 'frame 35.2 sec.jpg', 'frame 35.3 sec.jpg', 'frame 35.4 sec.jpg', 'frame 35.5 sec.jpg', 'frame 38.6 sec.jpg', 'frame 38.7 sec.jpg', 'frame 38.8 sec.jpg', 'frame 38.9 sec.jpg', 'frame 39.0 sec.jpg', 'frame 39.1 sec.jpg', 'frame 39.2 sec.jpg', 'frame 39.3 sec.jpg', 'frame 39.4 sec.jpg', 'frame 39.5 sec.jpg', 'frame 39.6 sec.jpg', 'frame 39.7 sec.jpg', 'frame 39.8 sec.jpg', 'frame 39.9 sec.jpg', 'frame 40.0 sec.jpg', 'frame 40.1 sec.jpg', 'frame 40.2 sec.jpg', 'frame 40.3 sec.jpg', 'frame 40.4 sec.jpg', 'frame 40.5 sec.jpg', 'frame 44.6 sec.jpg', 'frame 44.7 sec.jpg', 'frame 44.8 sec.jpg', 'frame 44.9 sec.jpg', 'frame 45.0 sec.jpg', 'frame 45.1 sec.jpg', 'frame 45.2 sec.jpg', 'frame 45.3 sec.jpg', 'frame 45.4 sec.jpg', 'frame 45.5 sec.jpg', 'frame 45.6 sec.jpg', 'frame 45.7 sec.jpg', 'frame 45.8 sec.jpg', 'frame 45.9 sec.jpg', 'frame 46.0 sec.jpg', 'frame 46.1 sec.jpg', 'frame 46.2 sec.jpg', 'frame 46.3 sec.jpg', 'frame 46.4 sec.jpg', 'frame 46.5 sec.jpg', 'frame 46.6 sec.jpg', 'frame 46.7 sec.jpg', 'frame 46.8 sec.jpg', 'frame 46.9 sec.jpg', 'frame 47.0 sec.jpg', 'frame 47.1 sec.jpg', 'frame 47.2 sec.jpg', 'frame 47.3 sec.jpg', 'frame 47.4 sec.jpg', 'frame 47.5 sec.jpg', 'frame 47.6 sec.jpg', 'frame 47.7 sec.jpg', 'frame 47.8 sec.jpg', 'frame 47.9 sec.jpg', 'frame 48.0 sec.jpg', 'frame 48.1 sec.jpg', 'frame 48.2 sec.jpg', 'frame 48.3 sec.jpg', 'frame 48.4 sec.jpg', 'frame 48.5 sec.jpg', 'frame 48.6 sec.jpg', 'frame 48.7 sec.jpg', 'frame 48.8 sec.jpg', 'frame 48.9 sec.jpg', 'frame 49.0 sec.jpg', 'frame 49.1 sec.jpg', 'frame 49.2 sec.jpg', 'frame 49.3 sec.jpg', 'frame 49.4 sec.jpg', 'frame 49.5 sec.jpg', 'frame 49.6 sec.jpg', 'frame 49.7 sec.jpg', 'frame 49.8 sec.jpg', 'frame 49.9 sec.jpg', 'frame 50.0 sec.jpg', 'frame 50.1 sec.jpg', 'frame 50.2 sec.jpg', 'frame 50.3 sec.jpg', 'frame 50.4 sec.jpg', 'frame 50.5 sec.jpg', 'frame 50.6 sec.jpg', 'frame 50.7 sec.jpg', 'frame 50.8 sec.jpg', 'frame 50.9 sec.jpg', 'frame 51.0 sec.jpg', 'frame 51.1 sec.jpg', 'frame 51.2 sec.jpg', 'frame 51.3 sec.jpg', 'frame 51.4 sec.jpg', 'frame 51.5 sec.jpg', 'frame 54.6 sec.jpg', 'frame 54.7 sec.jpg', 'frame 54.8 sec.jpg', 'frame 54.9 sec.jpg', 'frame 55.0 sec.jpg', 'frame 55.1 sec.jpg', 'frame 55.2 sec.jpg', 'frame 55.3 sec.jpg', 'frame 55.4 sec.jpg', 'frame 55.5 sec.jpg', 'frame 55.6 sec.jpg', 'frame 55.7 sec.jpg', 'frame 55.8 sec.jpg', 'frame 55.9 sec.jpg', 'frame 56.0 sec.jpg', 'frame 56.1 sec.jpg', 'frame 56.2 sec.jpg', 'frame 56.3 sec.jpg', 'frame 56.4 sec.jpg', 'frame 56.5 sec.jpg', 'frame 56.6 sec.jpg', 'frame 56.7 sec.jpg', 'frame 56.8 sec.jpg', 'frame 56.9 sec.jpg', 'frame 57.0 sec.jpg', 'frame 57.1 sec.jpg', 'frame 57.2 sec.jpg', 'frame 57.3 sec.jpg', 'frame 57.4 sec.jpg', 'frame 57.5 sec.jpg', 'frame 57.6 sec.jpg', 'frame 57.7 sec.jpg', 'frame 57.8 sec.jpg', 'frame 57.9 sec.jpg', 'frame 58.0 sec.jpg', 'frame 58.1 sec.jpg', 'frame 58.2 sec.jpg', 'frame 58.3 sec.jpg', 'frame 58.4 sec.jpg', 'frame 58.5 sec.jpg', 'frame 58.6 sec.jpg', 'frame 58.7 sec.jpg', 'frame 58.8 sec.jpg', 'frame 58.9 sec.jpg', 'frame 59.0 sec.jpg', 'frame 59.1 sec.jpg', 'frame 59.2 sec.jpg', 'frame 59.3 sec.jpg', 'frame 59.4 sec.jpg', 'frame 59.5 sec.jpg', 'frame 59.6 sec.jpg', 'frame 59.7 sec.jpg', 'frame 59.8 sec.jpg', 'frame 59.9 sec.jpg', 'frame 60.0 sec.jpg', 'frame 60.1 sec.jpg', 'frame 60.2 sec.jpg', 'frame 60.3 sec.jpg', 'frame 60.4 sec.jpg', 'frame 60.5 sec.jpg', 'frame 60.6 sec.jpg', 'frame 60.7 sec.jpg', 'frame 60.8 sec.jpg', 'frame 60.9 sec.jpg', 'frame 61.0 sec.jpg', 'frame 61.1 sec.jpg', 'frame 61.2 sec.jpg', 'frame 61.3 sec.jpg', 'frame 61.4 sec.jpg', 'frame 61.5 sec.jpg', 'frame 61.6 sec.jpg', 'frame 61.7 sec.jpg', 'frame 61.8 sec.jpg', 'frame 61.9 sec.jpg', 'frame 62.0 sec.jpg', 'frame 62.1 sec.jpg', 'frame 62.2 sec.jpg', 'frame 62.3 sec.jpg', 'frame 62.4 sec.jpg', 'frame 62.5 sec.jpg', 'frame 62.6 sec.jpg', 'frame 62.7 sec.jpg', 'frame 62.8 sec.jpg', 'frame 62.9 sec.jpg', 'frame 63.0 sec.jpg', 'frame 63.1 sec.jpg', 'frame 63.2 sec.jpg', 'frame 63.3 sec.jpg', 'frame 63.4 sec.jpg', 'frame 63.5 sec.jpg', 'frame 63.6 sec.jpg', 'frame 63.7 sec.jpg', 'frame 63.8 sec.jpg', 'frame 63.9 sec.jpg', 'frame 64.0 sec.jpg', 'frame 64.1 sec.jpg', 'frame 64.2 sec.jpg', 'frame 64.3 sec.jpg', 'frame 64.4 sec.jpg', 'frame 64.5 sec.jpg', 'frame 64.6 sec.jpg', 'frame 64.7 sec.jpg', 'frame 64.8 sec.jpg', 'frame 64.9 sec.jpg', 'frame 65.0 sec.jpg', 'frame 65.1 sec.jpg', 'frame 65.2 sec.jpg', 'frame 65.3 sec.jpg', 'frame 65.4 sec.jpg', 'frame 65.5 sec.jpg', 'frame 67.6 sec.jpg', 'frame 67.7 sec.jpg', 'frame 67.8 sec.jpg', 'frame 67.9 sec.jpg', 'frame 68.0 sec.jpg', 'frame 68.1 sec.jpg', 'frame 68.2 sec.jpg', 'frame 68.3 sec.jpg', 'frame 68.4 sec.jpg', 'frame 68.5 sec.jpg', 'frame 68.6 sec.jpg', 'frame 68.7 sec.jpg', 'frame 68.8 sec.jpg', 'frame 68.9 sec.jpg', 'frame 69.0 sec.jpg', 'frame 69.1 sec.jpg', 'frame 69.2 sec.jpg', 'frame 69.3 sec.jpg', 'frame 69.4 sec.jpg', 'frame 69.5 sec.jpg', 'frame 69.6 sec.jpg', 'frame 69.7 sec.jpg', 'frame 69.8 sec.jpg', 'frame 69.9 sec.jpg', 'frame 7.0 sec.jpg', 'frame 7.1 sec.jpg', 'frame 7.2 sec.jpg', 'frame 7.3 sec.jpg', 'frame 7.4 sec.jpg', 'frame 7.5 sec.jpg', 'frame 7.6 sec.jpg', 'frame 7.7 sec.jpg', 'frame 7.8 sec.jpg', 'frame 7.9 sec.jpg', 'frame 70.0 sec.jpg', 'frame 70.1 sec.jpg', 'frame 70.2 sec.jpg', 'frame 70.3 sec.jpg', 'frame 70.4 sec.jpg', 'frame 70.5 sec.jpg', 'frame 71.4 sec.jpg', 'frame 71.5 sec.jpg', 'frame 72.4 sec.jpg', 'frame 72.5 sec.jpg', 'frame 73.4 sec.jpg', 'frame 73.5 sec.jpg', 'frame 77.1 sec.jpg', 'frame 77.2 sec.jpg', 'frame 78.1 sec.jpg', 'frame 78.2 sec.jpg', 'frame 79.1 sec.jpg', 'frame 79.2 sec.jpg', 'frame 80.1 sec.jpg', 'frame 80.2 sec.jpg', 'frame 80.3 sec.jpg', 'frame 80.4 sec.jpg', 'frame 80.5 sec.jpg', 'frame 80.6 sec.jpg', 'frame 80.7 sec.jpg', 'frame 80.8 sec.jpg', 'frame 80.9 sec.jpg', 'frame 81.0 sec.jpg', 'frame 81.1 sec.jpg', 'frame 81.2 sec.jpg', 'frame 81.3 sec.jpg', 'frame 81.4 sec.jpg', 'frame 81.5 sec.jpg', 'frame 81.6 sec.jpg', 'frame 81.7 sec.jpg', 'frame 81.8 sec.jpg', 'frame 85.9 sec.jpg', 'frame 86.0 sec.jpg', 'frame 86.1 sec.jpg', 'frame 86.2 sec.jpg', 'frame 86.3 sec.jpg', 'frame 86.4 sec.jpg', 'frame 86.5 sec.jpg', 'frame 86.6 sec.jpg', 'frame 86.7 sec.jpg', 'frame 86.8 sec.jpg', 'frame 86.9 sec.jpg', 'frame 87.0 sec.jpg', 'frame 87.1 sec.jpg', 'frame 87.2 sec.jpg', 'frame 87.3 sec.jpg', 'frame 87.4 sec.jpg', 'frame 87.5 sec.jpg', 'frame 87.6 sec.jpg', 'frame 87.7 sec.jpg', 'frame 87.8 sec.jpg', 'frame 94.9 sec.jpg', 'frame 95.0 sec.jpg', 'frame 95.1 sec.jpg', 'frame 95.2 sec.jpg', 'frame 95.3 sec.jpg', 'frame 95.4 sec.jpg', 'frame 95.5 sec.jpg', 'frame 95.6 sec.jpg', 'frame 95.7 sec.jpg', 'frame 95.8 sec.jpg', 'frame 95.9 sec.jpg', 'frame 96.0 sec.jpg', 'frame 96.1 sec.jpg', 'frame 96.2 sec.jpg', 'frame 96.3 sec.jpg', 'frame 96.4 sec.jpg', 'frame 96.5 sec.jpg', 'frame 96.6 sec.jpg', 'frame 96.7 sec.jpg', 'frame 96.8 sec.jpg', 'frame 96.9 sec.jpg', 'frame 97.0 sec.jpg', 'frame 97.1 sec.jpg', 'frame 97.2 sec.jpg', 'frame 97.3 sec.jpg', 'frame 97.4 sec.jpg', 'frame 97.5 sec.jpg', 'frame 97.6 sec.jpg', 'frame 97.7 sec.jpg', 'frame 97.8 sec.jpg', 'frame 97.9 sec.jpg', 'frame 98.0 sec.jpg', 'frame 98.1 sec.jpg', 'frame 98.2 sec.jpg', 'frame 98.3 sec.jpg', 'frame 98.4 sec.jpg', 'frame 98.5 sec.jpg', 'frame 98.6 sec.jpg', 'frame 98.7 sec.jpg', 'frame 98.8 sec.jpg', 'frame 98.9 sec.jpg', 'frame 99.0 sec.jpg', 'frame 99.1 sec.jpg', 'frame 99.2 sec.jpg', 'frame 99.3 sec.jpg', 'frame 99.4 sec.jpg', 'frame 99.5 sec.jpg', 'frame 99.6 sec.jpg', 'frame 99.7 sec.jpg', 'frame 99.8 sec.jpg', 'frames 0 sec.jpg', 'frames 0.9 sec.jpg', 'frames 1.0 sec.jpg', 'frames 1.9 sec.jpg', 'frames 10.4 sec.jpg', 'frames 10.5 sec.jpg', 'frames 10.6 sec.jpg', 'frames 10.7 sec.jpg', 'frames 10.8 sec.jpg', 'frames 10.9 sec.jpg', 'frames 100.0 sec.jpg', 'frames 100.1 sec.jpg', 'frames 100.2 sec.jpg', 'frames 100.3 sec.jpg', 'frames 100.4 sec.jpg', 'frames 100.5 sec.jpg', 'frames 100.6 sec.jpg', 'frames 100.7 sec.jpg', 'frames 100.8 sec.jpg', 'frames 100.9 sec.jpg', 'frames 101.0 sec.jpg', 'frames 101.1 sec.jpg', 'frames 101.2 sec.jpg', 'frames 101.3 sec.jpg', 'frames 101.4 sec.jpg', 'frames 101.5 sec.jpg', 'frames 101.6 sec.jpg', 'frames 101.7 sec.jpg', 'frames 101.8 sec.jpg', 'frames 101.9 sec.jpg', 'frames 102.0 sec.jpg', 'frames 102.1 sec.jpg', 'frames 102.2 sec.jpg', 'frames 102.3 sec.jpg', 'frames 102.4 sec.jpg', 'frames 102.5 sec.jpg', 'frames 102.6 sec.jpg', 'frames 102.7 sec.jpg', 'frames 102.8 sec.jpg', 'frames 102.9 sec.jpg', 'frames 103.0 sec.jpg', 'frames 103.1 sec.jpg', 'frames 103.2 sec.jpg', 'frames 103.3 sec.jpg', 'frames 103.4 sec.jpg', 'frames 103.5 sec.jpg', 'frames 103.6 sec.jpg', 'frames 103.7 sec.jpg', 'frames 103.8 sec.jpg', 'frames 103.9 sec.jpg', 'frames 104.0 sec.jpg', 'frames 104.1 sec.jpg', 'frames 104.2 sec.jpg', 'frames 104.3 sec.jpg', 'frames 104.4 sec.jpg', 'frames 104.5 sec.jpg', 'frames 104.6 sec.jpg', 'frames 104.7 sec.jpg', 'frames 104.8 sec.jpg', 'frames 104.9 sec.jpg', 'frames 105.0 sec.jpg', 'frames 105.1 sec.jpg', 'frames 105.2 sec.jpg', 'frames 105.3 sec.jpg', 'frames 105.4 sec.jpg', 'frames 105.5 sec.jpg', 'frames 105.6 sec.jpg', 'frames 105.7 sec.jpg', 'frames 105.8 sec.jpg', 'frames 105.9 sec.jpg', 'frames 106.0 sec.jpg', 'frames 106.1 sec.jpg', 'frames 106.2 sec.jpg', 'frames 106.3 sec.jpg', 'frames 106.4 sec.jpg', 'frames 106.5 sec.jpg', 'frames 106.6 sec.jpg', 'frames 106.7 sec.jpg', 'frames 106.8 sec.jpg', 'frames 106.9 sec.jpg', 'frames 107.0 sec.jpg', 'frames 107.1 sec.jpg', 'frames 107.2 sec.jpg', 'frames 107.3 sec.jpg', 'frames 107.4 sec.jpg', 'frames 107.5 sec.jpg', 'frames 107.6 sec.jpg', 'frames 107.7 sec.jpg', 'frames 107.8 sec.jpg', 'frames 107.9 sec.jpg', 'frames 108.0 sec.jpg', 'frames 108.1 sec.jpg', 'frames 108.2 sec.jpg', 'frames 108.3 sec.jpg', 'frames 108.4 sec.jpg', 'frames 108.5 sec.jpg', 'frames 108.6 sec.jpg', 'frames 108.7 sec.jpg', 'frames 108.8 sec.jpg', 'frames 108.9 sec.jpg', 'frames 109.0 sec.jpg', 'frames 109.1 sec.jpg', 'frames 109.2 sec.jpg', 'frames 109.3 sec.jpg', 'frames 109.4 sec.jpg', 'frames 109.5 sec.jpg', 'frames 109.6 sec.jpg', 'frames 109.7 sec.jpg', 'frames 109.8 sec.jpg', 'frames 109.9 sec.jpg', 'frames 11.0 sec.jpg', 'frames 11.1 sec.jpg', 'frames 11.2 sec.jpg', 'frames 11.3 sec.jpg', 'frames 11.4 sec.jpg', 'frames 11.5 sec.jpg', 'frames 11.6 sec.jpg', 'frames 11.7 sec.jpg', 'frames 11.8 sec.jpg', 'frames 11.9 sec.jpg', 'frames 110.0 sec.jpg', 'frames 110.1 sec.jpg', 'frames 110.2 sec.jpg', 'frames 110.3 sec.jpg', 'frames 110.4 sec.jpg', 'frames 110.5 sec.jpg', 'frames 110.6 sec.jpg', 'frames 110.7 sec.jpg', 'frames 110.8 sec.jpg', 'frames 110.9 sec.jpg', 'frames 111.0 sec.jpg', 'frames 111.1 sec.jpg', 'frames 12.0 sec.jpg', 'frames 13.0 sec.jpg', 'frames 14.0 sec.jpg', 'frames 15.0 sec.jpg', 'frames 16.0 sec.jpg', 'frames 17.0 sec.jpg', 'frames 17.1 sec.jpg', 'frames 17.2 sec.jpg', 'frames 17.3 sec.jpg', 'frames 17.4 sec.jpg', 'frames 17.5 sec.jpg', 'frames 17.6 sec.jpg', 'frames 17.7 sec.jpg', 'frames 17.8 sec.jpg', 'frames 17.9 sec.jpg', 'frames 18.0 sec.jpg', 'frames 18.1 sec.jpg', 'frames 18.2 sec.jpg', 'frames 18.3 sec.jpg', 'frames 18.4 sec.jpg', 'frames 18.5 sec.jpg', 'frames 18.6 sec.jpg', 'frames 18.7 sec.jpg', 'frames 18.8 sec.jpg', 'frames 18.9 sec.jpg', 'frames 19.0 sec.jpg', 'frames 19.1 sec.jpg', 'frames 19.2 sec.jpg', 'frames 19.3 sec.jpg', 'frames 19.4 sec.jpg', 'frames 19.5 sec.jpg', 'frames 19.6 sec.jpg', 'frames 19.7 sec.jpg', 'frames 19.8 sec.jpg', 'frames 19.9 sec.jpg', 'frames 2.0 sec.jpg', 'frames 2.9 sec.jpg', 'frames 20.0 sec.jpg', 'frames 20.1 sec.jpg', 'frames 20.2 sec.jpg', 'frames 20.3 sec.jpg', 'frames 20.4 sec.jpg', 'frames 20.5 sec.jpg', 'frames 20.6 sec.jpg', 'frames 20.7 sec.jpg', 'frames 20.8 sec.jpg', 'frames 20.9 sec.jpg', 'frames 21.0 sec.jpg', 'frames 21.1 sec.jpg', 'frames 21.2 sec.jpg', 'frames 21.3 sec.jpg', 'frames 21.4 sec.jpg', 'frames 21.5 sec.jpg', 'frames 21.6 sec.jpg', 'frames 21.7 sec.jpg', 'frames 21.8 sec.jpg', 'frames 21.9 sec.jpg', 'frames 22.0 sec.jpg', 'frames 22.1 sec.jpg', 'frames 22.2 sec.jpg', 'frames 22.3 sec.jpg', 'frames 22.4 sec.jpg', 'frames 22.5 sec.jpg', 'frames 22.6 sec.jpg', 'frames 22.7 sec.jpg', 'frames 22.8 sec.jpg', 'frames 22.9 sec.jpg', 'frames 23.0 sec.jpg', 'frames 23.1 sec.jpg', 'frames 23.2 sec.jpg', 'frames 23.3 sec.jpg', 'frames 23.4 sec.jpg', 'frames 23.5 sec.jpg', 'frames 23.6 sec.jpg', 'frames 23.7 sec.jpg', 'frames 23.8 sec.jpg', 'frames 23.9 sec.jpg', 'frames 24.0 sec.jpg', 'frames 24.1 sec.jpg', 'frames 24.2 sec.jpg', 'frames 24.3 sec.jpg', 'frames 24.4 sec.jpg', 'frames 24.5 sec.jpg', 'frames 24.6 sec.jpg', 'frames 24.7 sec.jpg', 'frames 24.8 sec.jpg', 'frames 24.9 sec.jpg', 'frames 25.0 sec.jpg', 'frames 25.1 sec.jpg', 'frames 25.2 sec.jpg', 'frames 25.3 sec.jpg', 'frames 25.4 sec.jpg', 'frames 25.5 sec.jpg', 'frames 25.6 sec.jpg', 'frames 25.7 sec.jpg', 'frames 25.8 sec.jpg', 'frames 25.9 sec.jpg', 'frames 26.0 sec.jpg', 'frames 26.1 sec.jpg', 'frames 26.2 sec.jpg', 'frames 26.3 sec.jpg', 'frames 26.4 sec.jpg', 'frames 26.5 sec.jpg', 'frames 26.6 sec.jpg', 'frames 26.7 sec.jpg', 'frames 26.8 sec.jpg', 'frames 26.9 sec.jpg', 'frames 27.0 sec.jpg', 'frames 27.1 sec.jpg', 'frames 27.2 sec.jpg', 'frames 27.3 sec.jpg', 'frames 27.4 sec.jpg', 'frames 27.5 sec.jpg', 'frames 27.6 sec.jpg', 'frames 27.7 sec.jpg', 'frames 27.8 sec.jpg', 'frames 27.9 sec.jpg', 'frames 28.0 sec.jpg', 'frames 28.1 sec.jpg', 'frames 28.2 sec.jpg', 'frames 28.3 sec.jpg', 'frames 28.4 sec.jpg', 'frames 28.5 sec.jpg', 'frames 28.6 sec.jpg', 'frames 28.7 sec.jpg', 'frames 28.8 sec.jpg', 'frames 28.9 sec.jpg', 'frames 29.0 sec.jpg', 'frames 29.1 sec.jpg', 'frames 29.2 sec.jpg', 'frames 29.3 sec.jpg', 'frames 29.4 sec.jpg', 'frames 29.5 sec.jpg', 'frames 29.6 sec.jpg', 'frames 29.7 sec.jpg', 'frames 29.8 sec.jpg', 'frames 29.9 sec.jpg', 'frames 3.0 sec.jpg', 'frames 3.9 sec.jpg', 'frames 30.0 sec.jpg', 'frames 30.1 sec.jpg', 'frames 30.2 sec.jpg', 'frames 30.3 sec.jpg', 'frames 30.4 sec.jpg', 'frames 30.5 sec.jpg', 'frames 30.6 sec.jpg', 'frames 30.7 sec.jpg', 'frames 30.8 sec.jpg', 'frames 30.9 sec.jpg', 'frames 31.0 sec.jpg', 'frames 31.1 sec.jpg', 'frames 31.2 sec.jpg', 'frames 31.3 sec.jpg', 'frames 31.4 sec.jpg', 'frames 31.5 sec.jpg', 'frames 31.6 sec.jpg', 'frames 31.7 sec.jpg', 'frames 31.8 sec.jpg', 'frames 31.9 sec.jpg', 'frames 32.0 sec.jpg', 'frames 32.1 sec.jpg', 'frames 32.2 sec.jpg', 'frames 32.3 sec.jpg', 'frames 32.4 sec.jpg', 'frames 32.5 sec.jpg', 'frames 32.6 sec.jpg', 'frames 32.7 sec.jpg', 'frames 32.8 sec.jpg', 'frames 32.9 sec.jpg', 'frames 33.0 sec.jpg', 'frames 33.1 sec.jpg', 'frames 33.2 sec.jpg', 'frames 33.3 sec.jpg', 'frames 33.4 sec.jpg', 'frames 33.5 sec.jpg', 'frames 33.6 sec.jpg', 'frames 33.7 sec.jpg', 'frames 33.8 sec.jpg', 'frames 33.9 sec.jpg', 'frames 34.0 sec.jpg', 'frames 34.1 sec.jpg', 'frames 34.2 sec.jpg', 'frames 34.3 sec.jpg', 'frames 34.4 sec.jpg', 'frames 34.5 sec.jpg', 'frames 34.6 sec.jpg', 'frames 34.7 sec.jpg', 'frames 34.8 sec.jpg', 'frames 34.9 sec.jpg', 'frames 35.0 sec.jpg', 'frames 35.1 sec.jpg', 'frames 35.2 sec.jpg', 'frames 35.3 sec.jpg', 'frames 35.4 sec.jpg', 'frames 35.5 sec.jpg', 'frames 35.6 sec.jpg', 'frames 35.7 sec.jpg', 'frames 35.8 sec.jpg', 'frames 35.9 sec.jpg', 'frames 36.0 sec.jpg', 'frames 36.1 sec.jpg', 'frames 36.2 sec.jpg', 'frames 36.3 sec.jpg', 'frames 36.4 sec.jpg', 'frames 36.5 sec.jpg', 'frames 36.6 sec.jpg', 'frames 36.7 sec.jpg', 'frames 36.8 sec.jpg', 'frames 36.9 sec.jpg', 'frames 37.0 sec.jpg', 'frames 37.1 sec.jpg', 'frames 37.2 sec.jpg', 'frames 37.3 sec.jpg', 'frames 37.4 sec.jpg', 'frames 37.5 sec.jpg', 'frames 37.6 sec.jpg', 'frames 37.7 sec.jpg', 'frames 37.8 sec.jpg', 'frames 37.9 sec.jpg', 'frames 38.0 sec.jpg', 'frames 38.1 sec.jpg', 'frames 38.2 sec.jpg', 'frames 38.3 sec.jpg', 'frames 38.4 sec.jpg', 'frames 38.5 sec.jpg', 'frames 38.6 sec.jpg', 'frames 38.7 sec.jpg', 'frames 38.8 sec.jpg', 'frames 38.9 sec.jpg', 'frames 39.0 sec.jpg', 'frames 39.1 sec.jpg', 'frames 39.2 sec.jpg', 'frames 39.3 sec.jpg', 'frames 39.4 sec.jpg', 'frames 39.5 sec.jpg', 'frames 39.6 sec.jpg', 'frames 39.7 sec.jpg', 'frames 39.8 sec.jpg', 'frames 39.9 sec.jpg', 'frames 4.0 sec.jpg', 'frames 40.0 sec.jpg', 'frames 40.1 sec.jpg', 'frames 40.2 sec.jpg', 'frames 40.3 sec.jpg', 'frames 40.4 sec.jpg', 'frames 40.5 sec.jpg', 'frames 40.6 sec.jpg', 'frames 40.7 sec.jpg', 'frames 40.8 sec.jpg', 'frames 40.9 sec.jpg', 'frames 41.0 sec.jpg', 'frames 41.1 sec.jpg', 'frames 41.2 sec.jpg', 'frames 41.3 sec.jpg', 'frames 41.4 sec.jpg', 'frames 41.5 sec.jpg', 'frames 41.6 sec.jpg', 'frames 41.7 sec.jpg', 'frames 41.8 sec.jpg', 'frames 41.9 sec.jpg', 'frames 42.0 sec.jpg', 'frames 42.1 sec.jpg', 'frames 42.2 sec.jpg', 'frames 42.3 sec.jpg', 'frames 42.4 sec.jpg', 'frames 42.5 sec.jpg', 'frames 42.6 sec.jpg', 'frames 42.7 sec.jpg', 'frames 42.8 sec.jpg', 'frames 42.9 sec.jpg', 'frames 43.0 sec.jpg', 'frames 43.1 sec.jpg', 'frames 43.2 sec.jpg', 'frames 43.3 sec.jpg', 'frames 43.4 sec.jpg', 'frames 43.5 sec.jpg', 'frames 43.6 sec.jpg', 'frames 43.7 sec.jpg', 'frames 43.8 sec.jpg', 'frames 43.9 sec.jpg', 'frames 44.0 sec.jpg', 'frames 44.1 sec.jpg', 'frames 44.2 sec.jpg', 'frames 44.3 sec.jpg', 'frames 44.4 sec.jpg', 'frames 44.5 sec.jpg', 'frames 44.6 sec.jpg', 'frames 44.7 sec.jpg', 'frames 44.8 sec.jpg', 'frames 44.9 sec.jpg', 'frames 45.0 sec.jpg', 'frames 45.1 sec.jpg', 'frames 45.2 sec.jpg', 'frames 45.3 sec.jpg', 'frames 45.4 sec.jpg', 'frames 45.5 sec.jpg', 'frames 45.6 sec.jpg', 'frames 45.7 sec.jpg', 'frames 45.8 sec.jpg', 'frames 45.9 sec.jpg', 'frames 46.0 sec.jpg', 'frames 46.1 sec.jpg', 'frames 46.2 sec.jpg', 'frames 46.3 sec.jpg', 'frames 46.4 sec.jpg', 'frames 46.5 sec.jpg', 'frames 46.6 sec.jpg', 'frames 46.7 sec.jpg', 'frames 46.8 sec.jpg', 'frames 46.9 sec.jpg', 'frames 47.0 sec.jpg', 'frames 47.1 sec.jpg', 'frames 47.2 sec.jpg', 'frames 47.3 sec.jpg', 'frames 47.4 sec.jpg', 'frames 47.5 sec.jpg', 'frames 47.6 sec.jpg', 'frames 47.7 sec.jpg', 'frames 47.8 sec.jpg', 'frames 47.9 sec.jpg', 'frames 48.0 sec.jpg', 'frames 48.1 sec.jpg', 'frames 48.2 sec.jpg', 'frames 48.3 sec.jpg', 'frames 48.4 sec.jpg', 'frames 48.5 sec.jpg', 'frames 48.6 sec.jpg', 'frames 48.7 sec.jpg', 'frames 48.8 sec.jpg', 'frames 48.9 sec.jpg', 'frames 49.0 sec.jpg', 'frames 49.1 sec.jpg', 'frames 49.2 sec.jpg', 'frames 49.3 sec.jpg', 'frames 49.4 sec.jpg', 'frames 49.5 sec.jpg', 'frames 49.6 sec.jpg', 'frames 49.7 sec.jpg', 'frames 49.8 sec.jpg', 'frames 49.9 sec.jpg', 'frames 50.0 sec.jpg', 'frames 50.1 sec.jpg', 'frames 50.2 sec.jpg', 'frames 50.3 sec.jpg', 'frames 50.4 sec.jpg', 'frames 50.5 sec.jpg', 'frames 50.6 sec.jpg', 'frames 50.7 sec.jpg', 'frames 50.8 sec.jpg', 'frames 50.9 sec.jpg', 'frames 51.0 sec.jpg', 'frames 51.1 sec.jpg', 'frames 51.2 sec.jpg', 'frames 51.3 sec.jpg', 'frames 51.4 sec.jpg', 'frames 51.5 sec.jpg', 'frames 51.6 sec.jpg', 'frames 51.7 sec.jpg', 'frames 51.8 sec.jpg', 'frames 51.9 sec.jpg', 'frames 52.0 sec.jpg', 'frames 52.1 sec.jpg', 'frames 52.2 sec.jpg', 'frames 52.3 sec.jpg', 'frames 52.4 sec.jpg', 'frames 52.5 sec.jpg', 'frames 52.6 sec.jpg', 'frames 52.7 sec.jpg', 'frames 52.8 sec.jpg', 'frames 52.9 sec.jpg', 'frames 53.0 sec.jpg', 'frames 53.1 sec.jpg', 'frames 53.2 sec.jpg', 'frames 53.3 sec.jpg', 'frames 53.4 sec.jpg', 'frames 53.5 sec.jpg', 'frames 53.6 sec.jpg', 'frames 53.7 sec.jpg', 'frames 53.8 sec.jpg', 'frames 53.9 sec.jpg', 'frames 54.0 sec.jpg', 'frames 54.1 sec.jpg', 'frames 54.2 sec.jpg', 'frames 54.3 sec.jpg', 'frames 54.4 sec.jpg', 'frames 54.5 sec.jpg', 'frames 54.6 sec.jpg', 'frames 54.7 sec.jpg', 'frames 54.8 sec.jpg', 'frames 54.9 sec.jpg', 'frames 55.0 sec.jpg', 'frames 55.1 sec.jpg', 'frames 55.2 sec.jpg', 'frames 55.3 sec.jpg', 'frames 55.4 sec.jpg', 'frames 55.5 sec.jpg', 'frames 55.6 sec.jpg', 'frames 55.7 sec.jpg', 'frames 55.8 sec.jpg', 'frames 55.9 sec.jpg', 'frames 56.0 sec.jpg', 'frames 56.1 sec.jpg', 'frames 56.2 sec.jpg', 'frames 56.3 sec.jpg', 'frames 56.4 sec.jpg', 'frames 56.5 sec.jpg', 'frames 56.6 sec.jpg', 'frames 56.7 sec.jpg', 'frames 56.8 sec.jpg', 'frames 56.9 sec.jpg', 'frames 57.0 sec.jpg', 'frames 57.1 sec.jpg', 'frames 57.2 sec.jpg', 'frames 57.3 sec.jpg', 'frames 57.4 sec.jpg', 'frames 57.5 sec.jpg', 'frames 57.6 sec.jpg', 'frames 57.7 sec.jpg', 'frames 57.8 sec.jpg', 'frames 57.9 sec.jpg', 'frames 58.0 sec.jpg', 'frames 58.1 sec.jpg', 'frames 58.2 sec.jpg', 'frames 58.3 sec.jpg', 'frames 58.4 sec.jpg', 'frames 58.5 sec.jpg', 'frames 58.6 sec.jpg', 'frames 58.7 sec.jpg', 'frames 58.8 sec.jpg', 'frames 58.9 sec.jpg', 'frames 59.0 sec.jpg', 'frames 59.1 sec.jpg', 'frames 59.2 sec.jpg', 'frames 59.3 sec.jpg', 'frames 59.4 sec.jpg', 'frames 59.5 sec.jpg', 'frames 59.6 sec.jpg', 'frames 59.7 sec.jpg', 'frames 59.8 sec.jpg', 'frames 59.9 sec.jpg', 'frames 6.8 sec.jpg', 'frames 60.0 sec.jpg', 'frames 60.1 sec.jpg', 'frames 60.2 sec.jpg', 'frames 60.3 sec.jpg', 'frames 60.4 sec.jpg', 'frames 60.5 sec.jpg', 'frames 60.6 sec.jpg', 'frames 60.7 sec.jpg', 'frames 60.8 sec.jpg', 'frames 60.9 sec.jpg', 'frames 61.0 sec.jpg', 'frames 61.1 sec.jpg', 'frames 61.2 sec.jpg', 'frames 61.3 sec.jpg', 'frames 61.4 sec.jpg', 'frames 61.5 sec.jpg', 'frames 61.6 sec.jpg', 'frames 61.7 sec.jpg', 'frames 61.8 sec.jpg', 'frames 61.9 sec.jpg', 'frames 62.0 sec.jpg', 'frames 62.1 sec.jpg', 'frames 62.2 sec.jpg', 'frames 62.3 sec.jpg', 'frames 62.4 sec.jpg', 'frames 62.5 sec.jpg', 'frames 62.6 sec.jpg', 'frames 62.7 sec.jpg', 'frames 62.8 sec.jpg', 'frames 62.9 sec.jpg', 'frames 63.0 sec.jpg', 'frames 63.1 sec.jpg', 'frames 63.2 sec.jpg', 'frames 63.3 sec.jpg', 'frames 63.4 sec.jpg', 'frames 63.5 sec.jpg', 'frames 63.6 sec.jpg', 'frames 63.7 sec.jpg', 'frames 63.8 sec.jpg', 'frames 63.9 sec.jpg', 'frames 64.0 sec.jpg', 'frames 64.1 sec.jpg', 'frames 64.2 sec.jpg', 'frames 64.3 sec.jpg', 'frames 64.4 sec.jpg', 'frames 64.5 sec.jpg', 'frames 64.6 sec.jpg', 'frames 64.7 sec.jpg', 'frames 64.8 sec.jpg', 'frames 64.9 sec.jpg', 'frames 65.0 sec.jpg', 'frames 65.1 sec.jpg', 'frames 65.2 sec.jpg', 'frames 65.3 sec.jpg', 'frames 65.4 sec.jpg', 'frames 65.5 sec.jpg', 'frames 65.6 sec.jpg', 'frames 65.7 sec.jpg', 'frames 65.8 sec.jpg', 'frames 65.9 sec.jpg', 'frames 66.0 sec.jpg', 'frames 66.1 sec.jpg', 'frames 66.2 sec.jpg', 'frames 66.3 sec.jpg', 'frames 66.4 sec.jpg', 'frames 66.5 sec.jpg', 'frames 66.6 sec.jpg', 'frames 66.7 sec.jpg', 'frames 66.8 sec.jpg', 'frames 66.9 sec.jpg', 'frames 67.0 sec.jpg', 'frames 67.1 sec.jpg', 'frames 67.2 sec.jpg', 'frames 67.3 sec.jpg', 'frames 67.4 sec.jpg', 'frames 67.5 sec.jpg', 'frames 67.6 sec.jpg', 'frames 67.7 sec.jpg', 'frames 67.8 sec.jpg', 'frames 67.9 sec.jpg', 'frames 68.0 sec.jpg', 'frames 68.1 sec.jpg', 'frames 68.2 sec.jpg', 'frames 68.3 sec.jpg', 'frames 68.4 sec.jpg', 'frames 68.5 sec.jpg', 'frames 68.6 sec.jpg', 'frames 68.7 sec.jpg', 'frames 68.8 sec.jpg', 'frames 68.9 sec.jpg', 'frames 69.0 sec.jpg', 'frames 69.1 sec.jpg', 'frames 69.2 sec.jpg', 'frames 69.3 sec.jpg', 'frames 69.4 sec.jpg', 'frames 69.5 sec.jpg', 'frames 69.6 sec.jpg', 'frames 69.7 sec.jpg', 'frames 69.8 sec.jpg', 'frames 69.9 sec.jpg', 'frames 70.0 sec.jpg', 'frames 70.1 sec.jpg', 'frames 70.2 sec.jpg', 'frames 70.3 sec.jpg', 'frames 70.4 sec.jpg', 'frames 70.5 sec.jpg', 'frames 70.6 sec.jpg', 'frames 70.7 sec.jpg', 'frames 70.8 sec.jpg', 'frames 70.9 sec.jpg', 'frames 71.0 sec.jpg', 'frames 71.1 sec.jpg', 'frames 71.2 sec.jpg', 'frames 71.3 sec.jpg', 'frames 71.4 sec.jpg', 'frames 71.5 sec.jpg', 'frames 71.6 sec.jpg', 'frames 71.7 sec.jpg', 'frames 71.8 sec.jpg', 'frames 71.9 sec.jpg', 'frames 72.0 sec.jpg', 'frames 72.1 sec.jpg', 'frames 72.2 sec.jpg', 'frames 72.3 sec.jpg', 'frames 72.4 sec.jpg', 'frames 72.5 sec.jpg', 'frames 72.6 sec.jpg', 'frames 72.7 sec.jpg', 'frames 72.8 sec.jpg', 'frames 72.9 sec.jpg', 'frames 73.0 sec.jpg', 'frames 73.1 sec.jpg', 'frames 73.2 sec.jpg', 'frames 73.3 sec.jpg', 'frames 73.4 sec.jpg', 'frames 73.5 sec.jpg', 'frames 73.6 sec.jpg', 'frames 73.7 sec.jpg', 'frames 73.8 sec.jpg', 'frames 73.9 sec.jpg', 'frames 74.0 sec.jpg', 'frames 74.1 sec.jpg', 'frames 74.2 sec.jpg', 'frames 74.3 sec.jpg', 'frames 74.4 sec.jpg', 'frames 74.5 sec.jpg', 'frames 74.6 sec.jpg', 'frames 74.7 sec.jpg', 'frames 74.8 sec.jpg', 'frames 74.9 sec.jpg', 'frames 75.0 sec.jpg', 'frames 75.1 sec.jpg', 'frames 75.2 sec.jpg', 'frames 75.3 sec.jpg', 'frames 75.4 sec.jpg', 'frames 75.5 sec.jpg', 'frames 75.6 sec.jpg', 'frames 75.7 sec.jpg', 'frames 75.8 sec.jpg', 'frames 75.9 sec.jpg', 'frames 76.0 sec.jpg', 'frames 76.1 sec.jpg', 'frames 76.2 sec.jpg', 'frames 76.3 sec.jpg', 'frames 76.4 sec.jpg', 'frames 76.5 sec.jpg', 'frames 76.6 sec.jpg', 'frames 76.7 sec.jpg', 'frames 76.8 sec.jpg', 'frames 76.9 sec.jpg', 'frames 77.0 sec.jpg', 'frames 77.1 sec.jpg', 'frames 77.2 sec.jpg', 'frames 77.3 sec.jpg', 'frames 77.4 sec.jpg', 'frames 77.5 sec.jpg', 'frames 77.6 sec.jpg', 'frames 77.7 sec.jpg', 'frames 77.8 sec.jpg', 'frames 77.9 sec.jpg', 'frames 78.0 sec.jpg', 'frames 78.1 sec.jpg', 'frames 78.2 sec.jpg', 'frames 78.3 sec.jpg', 'frames 78.4 sec.jpg', 'frames 78.5 sec.jpg', 'frames 78.6 sec.jpg', 'frames 78.7 sec.jpg', 'frames 78.8 sec.jpg', 'frames 78.9 sec.jpg', 'frames 79.0 sec.jpg', 'frames 79.1 sec.jpg', 'frames 79.2 sec.jpg', 'frames 79.3 sec.jpg', 'frames 79.4 sec.jpg', 'frames 79.5 sec.jpg', 'frames 79.6 sec.jpg', 'frames 79.7 sec.jpg', 'frames 79.8 sec.jpg', 'frames 79.9 sec.jpg', 'frames 8.4 sec.jpg', 'frames 80.0 sec.jpg', 'frames 80.1 sec.jpg', 'frames 80.2 sec.jpg', 'frames 80.3 sec.jpg', 'frames 80.4 sec.jpg', 'frames 80.5 sec.jpg', 'frames 80.6 sec.jpg', 'frames 80.7 sec.jpg', 'frames 80.8 sec.jpg', 'frames 80.9 sec.jpg', 'frames 81.0 sec.jpg', 'frames 81.1 sec.jpg', 'frames 81.2 sec.jpg', 'frames 81.3 sec.jpg', 'frames 81.4 sec.jpg', 'frames 81.5 sec.jpg', 'frames 81.6 sec.jpg', 'frames 81.7 sec.jpg', 'frames 81.8 sec.jpg', 'frames 81.9 sec.jpg', 'frames 82.0 sec.jpg', 'frames 82.1 sec.jpg', 'frames 82.2 sec.jpg', 'frames 82.3 sec.jpg', 'frames 82.4 sec.jpg', 'frames 82.5 sec.jpg', 'frames 82.6 sec.jpg', 'frames 82.7 sec.jpg', 'frames 82.8 sec.jpg', 'frames 82.9 sec.jpg', 'frames 83.0 sec.jpg', 'frames 83.1 sec.jpg', 'frames 83.2 sec.jpg', 'frames 83.3 sec.jpg', 'frames 83.4 sec.jpg', 'frames 83.5 sec.jpg', 'frames 83.6 sec.jpg', 'frames 83.7 sec.jpg', 'frames 83.8 sec.jpg', 'frames 83.9 sec.jpg', 'frames 84.0 sec.jpg', 'frames 84.1 sec.jpg', 'frames 84.2 sec.jpg', 'frames 84.3 sec.jpg', 'frames 84.4 sec.jpg', 'frames 84.5 sec.jpg', 'frames 84.6 sec.jpg', 'frames 84.7 sec.jpg', 'frames 84.8 sec.jpg', 'frames 84.9 sec.jpg', 'frames 85.0 sec.jpg', 'frames 85.1 sec.jpg', 'frames 85.2 sec.jpg', 'frames 85.3 sec.jpg', 'frames 85.4 sec.jpg', 'frames 85.5 sec.jpg', 'frames 85.6 sec.jpg', 'frames 85.7 sec.jpg', 'frames 85.8 sec.jpg', 'frames 85.9 sec.jpg', 'frames 86.0 sec.jpg', 'frames 86.1 sec.jpg', 'frames 86.2 sec.jpg', 'frames 86.3 sec.jpg', 'frames 86.4 sec.jpg', 'frames 86.5 sec.jpg', 'frames 86.6 sec.jpg', 'frames 86.7 sec.jpg', 'frames 86.8 sec.jpg', 'frames 86.9 sec.jpg', 'frames 87.0 sec.jpg', 'frames 87.1 sec.jpg', 'frames 87.2 sec.jpg', 'frames 87.3 sec.jpg', 'frames 87.4 sec.jpg', 'frames 87.5 sec.jpg', 'frames 87.6 sec.jpg', 'frames 87.7 sec.jpg', 'frames 87.8 sec.jpg', 'frames 87.9 sec.jpg', 'frames 88.0 sec.jpg', 'frames 88.1 sec.jpg', 'frames 88.2 sec.jpg', 'frames 88.3 sec.jpg', 'frames 88.4 sec.jpg', 'frames 88.5 sec.jpg', 'frames 88.6 sec.jpg', 'frames 88.7 sec.jpg', 'frames 88.8 sec.jpg', 'frames 88.9 sec.jpg', 'frames 89.0 sec.jpg', 'frames 89.1 sec.jpg', 'frames 89.2 sec.jpg', 'frames 89.3 sec.jpg', 'frames 89.4 sec.jpg', 'frames 89.5 sec.jpg', 'frames 89.6 sec.jpg', 'frames 89.7 sec.jpg', 'frames 89.8 sec.jpg', 'frames 89.9 sec.jpg', 'frames 9.4 sec.jpg', 'frames 90.0 sec.jpg', 'frames 90.1 sec.jpg', 'frames 90.2 sec.jpg', 'frames 90.3 sec.jpg', 'frames 90.4 sec.jpg', 'frames 90.5 sec.jpg', 'frames 90.6 sec.jpg', 'frames 90.7 sec.jpg', 'frames 90.8 sec.jpg', 'frames 90.9 sec.jpg', 'frames 91.0 sec.jpg', 'frames 91.1 sec.jpg', 'frames 91.2 sec.jpg', 'frames 91.3 sec.jpg', 'frames 91.4 sec.jpg', 'frames 91.5 sec.jpg', 'frames 91.6 sec.jpg', 'frames 91.7 sec.jpg', 'frames 91.8 sec.jpg', 'frames 91.9 sec.jpg', 'frames 92.0 sec.jpg', 'frames 92.1 sec.jpg', 'frames 92.2 sec.jpg', 'frames 92.3 sec.jpg', 'frames 92.4 sec.jpg', 'frames 92.5 sec.jpg', 'frames 92.6 sec.jpg', 'frames 92.7 sec.jpg', 'frames 92.8 sec.jpg', 'frames 92.9 sec.jpg', 'frames 93.0 sec.jpg', 'frames 93.1 sec.jpg', 'frames 93.2 sec.jpg', 'frames 93.3 sec.jpg', 'frames 93.4 sec.jpg', 'frames 93.5 sec.jpg', 'frames 93.6 sec.jpg', 'frames 93.7 sec.jpg', 'frames 93.8 sec.jpg', 'frames 93.9 sec.jpg', 'frames 94.0 sec.jpg', 'frames 94.1 sec.jpg', 'frames 94.2 sec.jpg', 'frames 94.3 sec.jpg', 'frames 94.4 sec.jpg', 'frames 94.5 sec.jpg', 'frames 94.6 sec.jpg', 'frames 94.7 sec.jpg', 'frames 94.8 sec.jpg', 'frames 94.9 sec.jpg', 'frames 95.0 sec.jpg', 'frames 95.1 sec.jpg', 'frames 95.2 sec.jpg', 'frames 95.3 sec.jpg', 'frames 95.4 sec.jpg', 'frames 95.5 sec.jpg', 'frames 95.6 sec.jpg', 'frames 95.7 sec.jpg', 'frames 95.8 sec.jpg', 'frames 95.9 sec.jpg', 'frames 96.0 sec.jpg', 'frames 96.1 sec.jpg', 'frames 96.2 sec.jpg', 'frames 96.3 sec.jpg', 'frames 96.4 sec.jpg', 'frames 96.5 sec.jpg', 'frames 96.6 sec.jpg', 'frames 96.7 sec.jpg', 'frames 96.8 sec.jpg', 'frames 96.9 sec.jpg', 'frames 97.0 sec.jpg', 'frames 97.1 sec.jpg', 'frames 97.2 sec.jpg', 'frames 97.3 sec.jpg', 'frames 97.4 sec.jpg', 'frames 97.5 sec.jpg', 'frames 97.6 sec.jpg', 'frames 97.7 sec.jpg', 'frames 97.8 sec.jpg', 'frames 97.9 sec.jpg', 'frames 98.0 sec.jpg', 'frames 98.1 sec.jpg', 'frames 98.2 sec.jpg', 'frames 98.3 sec.jpg', 'frames 98.4 sec.jpg', 'frames 98.5 sec.jpg', 'frames 98.6 sec.jpg', 'frames 98.7 sec.jpg', 'frames 98.8 sec.jpg', 'frames 98.9 sec.jpg', 'frames 99.0 sec.jpg', 'frames 99.1 sec.jpg', 'frames 99.2 sec.jpg', 'frames 99.3 sec.jpg', 'frames 99.4 sec.jpg', 'frames 99.5 sec.jpg', 'frames 99.6 sec.jpg', 'frames 99.7 sec.jpg', 'frames 99.8 sec.jpg', 'frames 99.9 sec.jpg'])\n"
     ]
    }
   ],
   "source": [
    "train_image_generator = ImageDataGenerator() # Generator for our training data\n",
    "validation_image_generator = ImageDataGenerator() # Generator for our validation data\n",
    "\n",
    "\n",
    "train_data_gen = train_image_generator.flow_from_directory(directory=str(train_data_var1),\n",
    "                                                     batch_size=batch_size,\n",
    "                                                     shuffle=True,\n",
    "                                                     target_size=(IMG_HEIGHT, IMG_WIDTH),\n",
    "                                                     classes = list(CLASS_NAMES),\n",
    "                                                     class_mode='categorical'\n",
    "                                                          )\n",
    "\n",
    "val_data_gen = validation_image_generator.flow_from_directory(directory=str(test_data_dir),\n",
    "                                                     batch_size=batch_size,\n",
    "                                                     shuffle=True,\n",
    "                                                     target_size=(IMG_HEIGHT, IMG_WIDTH),\n",
    "                                                     class_mode='categorical',\n",
    "                                                     classes = list(CLASS_NAMES)\n",
    "                                                             )\n",
    "#get class order from directories\n",
    "print(train_data_gen.class_indices.keys())\n",
    "print(val_data_gen.class_indices.keys())"
   ]
  },
  {
   "cell_type": "code",
   "execution_count": 52,
   "metadata": {},
   "outputs": [],
   "source": [
    "IMG_SIZE = 224\n",
    "IMG_SHAPE = (IMG_SIZE, IMG_SIZE, 3)\n",
    "\n",
    "# base model from the pre-trained model. Resnet 50 in this case\n",
    "base_model = tf.keras.applications.ResNet50(input_shape=IMG_SHAPE,\n",
    "                                               include_top=False,\n",
    "                                               weights='imagenet')\n",
    "\n",
    "base_model.trainable = False"
   ]
  },
  {
   "cell_type": "code",
   "execution_count": 53,
   "metadata": {},
   "outputs": [],
   "source": [
    "x = base_model.output\n",
    "x = tf.keras.layers.GlobalAveragePooling2D()(x)\n",
    "x = tf.keras.layers.Dense(num_classes,activation='softmax')(x)\n",
    "\n",
    "model = tf.keras.models.Model(inputs=base_model.input, outputs=x)\n",
    "\n",
    "base_learning_rate = 0.001\n",
    "model.compile(optimizer=tf.keras.optimizers.Adam(lr=base_learning_rate),\n",
    "              loss='categorical_crossentropy',\n",
    "              metrics=['accuracy'])"
   ]
  },
  {
   "cell_type": "code",
   "execution_count": null,
   "metadata": {},
   "outputs": [],
   "source": [
    "history = model.fit_generator(\n",
    "    train_data_gen,\n",
    "    steps_per_epoch=total_train // batch_size,\n",
    "    epochs=epochs,\n",
    "    validation_data=val_data_gen,\n",
    "    validation_steps=total_val // batch_size\n",
    ")"
   ]
  },
  {
   "cell_type": "code",
   "execution_count": null,
   "metadata": {},
   "outputs": [],
   "source": [
    "history\n",
    "acc = history.history['accuracy']\n",
    "val_acc = history.history['val_accuracy']\n",
    "\n",
    "loss = history.history['loss']\n",
    "val_loss = history.history['val_loss']\n",
    "\n",
    "epochs_range = range(epochs)\n",
    "\n",
    "plt.figure(figsize=(8, 8))\n",
    "plt.subplot(1, 2, 1)\n",
    "plt.plot(epochs_range, acc, label='Training Accuracy')\n",
    "plt.plot(epochs_range, val_acc, label='Validation Accuracy')\n",
    "plt.legend(loc='lower right')\n",
    "plt.title('Training and Validation Accuracy')\n",
    "\n",
    "plt.subplot(1, 2, 2)\n",
    "plt.plot(epochs_range, loss, label='Training Loss')\n",
    "plt.plot(epochs_range, val_loss, label='Validation Loss')\n",
    "plt.legend(loc='upper right')\n",
    "plt.title('Training and Validation Loss')\n",
    "plt.show()"
   ]
  },
  {
   "cell_type": "code",
   "execution_count": null,
   "metadata": {},
   "outputs": [],
   "source": []
  },
  {
   "cell_type": "code",
   "execution_count": null,
   "metadata": {},
   "outputs": [],
   "source": [
    "base_model.trainable = True "
   ]
  },
  {
   "cell_type": "code",
   "execution_count": null,
   "metadata": {},
   "outputs": [],
   "source": []
  },
  {
   "cell_type": "code",
   "execution_count": null,
   "metadata": {},
   "outputs": [],
   "source": [
    "print(\"Layers base model: \", len(base_model.layers))\n",
    "\n",
    "# Fine tune from layer x\n",
    "fine_tune_at = 100\n",
    "\n",
    "# Freeze all the layers before the fine tune starting layer\n",
    "for layer in base_model.layers[:fine_tune_at]:\n",
    "    layer.trainable =  False"
   ]
  },
  {
   "cell_type": "code",
   "execution_count": null,
   "metadata": {},
   "outputs": [],
   "source": []
  },
  {
   "cell_type": "code",
   "execution_count": null,
   "metadata": {},
   "outputs": [],
   "source": [
    "model.compile(loss='categorical_crossentropy',\n",
    "              optimizer = tf.keras.optimizers.RMSprop(lr=base_learning_rate/10),\n",
    "              metrics=['accuracy'])"
   ]
  },
  {
   "cell_type": "code",
   "execution_count": null,
   "metadata": {},
   "outputs": [],
   "source": [
    "model.summary()"
   ]
  },
  {
   "cell_type": "code",
   "execution_count": null,
   "metadata": {},
   "outputs": [],
   "source": [
    "initial_epochs = 7\n",
    "fine_tune_epochs = 3\n",
    "total_epochs =  initial_epochs + fine_tune_epochs\n",
    "train_batches = total_train // batch_size\n",
    "print(total_val // batch_size)\n",
    "validation_batches = total_val // batch_size\n",
    "\n",
    "history_fine = model.fit_generator(\n",
    "    train_data_gen,\n",
    "    steps_per_epoch=total_train // batch_size,\n",
    "    epochs=total_epochs,\n",
    "    initial_epoch = history.epoch[-1],\n",
    "    validation_data=val_data_gen,\n",
    "    validation_steps=total_val // batch_size\n",
    ")"
   ]
  },
  {
   "cell_type": "code",
   "execution_count": null,
   "metadata": {},
   "outputs": [],
   "source": [
    "acc += history_fine.history['accuracy']\n",
    "val_acc += history_fine.history['val_accuracy']\n",
    "\n",
    "loss += history_fine.history['loss']\n",
    "val_loss += history_fine.history['val_loss']"
   ]
  },
  {
   "cell_type": "code",
   "execution_count": null,
   "metadata": {},
   "outputs": [],
   "source": []
  },
  {
   "cell_type": "code",
   "execution_count": null,
   "metadata": {},
   "outputs": [],
   "source": [
    "plt.figure(figsize=(8, 8))\n",
    "plt.subplot(2, 1, 1)\n",
    "plt.plot(acc, label='Training Accuracy')\n",
    "plt.plot(val_acc, label='Validation Accuracy')\n",
    "plt.ylim([0.8, 1])\n",
    "plt.plot([initial_epochs-1,initial_epochs-1],\n",
    "          plt.ylim(), label='Start Fine Tuning')\n",
    "plt.legend(loc='lower right')\n",
    "plt.title('Training and Validation Accuracy')\n",
    "\n",
    "plt.subplot(2, 1, 2)\n",
    "plt.plot(loss, label='Training Loss')\n",
    "plt.plot(val_loss, label='Validation Loss')\n",
    "plt.ylim([0, 1.0])\n",
    "plt.plot([initial_epochs-1,initial_epochs-1],\n",
    "         plt.ylim(), label='Start Fine Tuning')\n",
    "plt.legend(loc='upper right')\n",
    "plt.title('Training and Validation Loss')\n",
    "plt.xlabel('epoch')\n",
    "plt.show()"
   ]
  },
  {
   "cell_type": "code",
   "execution_count": null,
   "metadata": {},
   "outputs": [],
   "source": []
  },
  {
   "cell_type": "code",
   "execution_count": null,
   "metadata": {},
   "outputs": [],
   "source": [
    "import os"
   ]
  },
  {
   "cell_type": "code",
   "execution_count": null,
   "metadata": {},
   "outputs": [],
   "source": [
    "from datetime import datetime\n",
    "# current date and time.\n",
    "now = datetime.now()\n",
    "timestamp = datetime.timestamp(now)\n",
    "print(\"timestamp =\", timestamp)"
   ]
  },
  {
   "cell_type": "code",
   "execution_count": null,
   "metadata": {},
   "outputs": [],
   "source": [
    "mode_filename = str(timestamp)+'mymodel.h5'\n",
    "model.save(model_filename)"
   ]
  },
  {
   "cell_type": "code",
   "execution_count": null,
   "metadata": {},
   "outputs": [],
   "source": []
  },
  {
   "cell_type": "code",
   "execution_count": null,
   "metadata": {},
   "outputs": [],
   "source": [
    "#To apply the model on new data\n",
    "new_model = tf.keras.models.load_model(model_filename)\n",
    "\n",
    "# Show the model architecture\n",
    "new_model.summary()"
   ]
  },
  {
   "cell_type": "code",
   "execution_count": null,
   "metadata": {},
   "outputs": [],
   "source": []
  },
  {
   "cell_type": "code",
   "execution_count": null,
   "metadata": {},
   "outputs": [],
   "source": [
    "from tensorflow.keras.preprocessing import image\n",
    "\n",
    "#image directory containing images to test\n",
    "img_dir=\"\\\\polyps\"\n",
    "\n",
    "for i,img in enumerate(os.listdir(img_dir)):\n",
    "    tmpimage = image.load_img(os.path.join(img_dir,img), target_size=(IMG_SIZE,IMG_SIZE))   \n",
    "    tmpimage = np.expand_dims(tmpimage, axis=0).astype('float32')    \n",
    "    result_class=new_model.predict(tmpimage)\n",
    "    print(img,\";\",CLASS_NAMES[result_class.argmax(axis=-1)])"
   ]
  },
  {
   "cell_type": "code",
   "execution_count": null,
   "metadata": {},
   "outputs": [],
   "source": []
  },
  {
   "cell_type": "code",
   "execution_count": null,
   "metadata": {},
   "outputs": [],
   "source": []
  },
  {
   "cell_type": "code",
   "execution_count": null,
   "metadata": {},
   "outputs": [],
   "source": []
  },
  {
   "cell_type": "code",
   "execution_count": null,
   "metadata": {},
   "outputs": [],
   "source": []
  },
  {
   "cell_type": "code",
   "execution_count": null,
   "metadata": {},
   "outputs": [],
   "source": []
  },
  {
   "cell_type": "code",
   "execution_count": null,
   "metadata": {},
   "outputs": [],
   "source": []
  },
  {
   "cell_type": "code",
   "execution_count": null,
   "metadata": {},
   "outputs": [],
   "source": []
  },
  {
   "cell_type": "code",
   "execution_count": null,
   "metadata": {},
   "outputs": [],
   "source": []
  },
  {
   "cell_type": "code",
   "execution_count": null,
   "metadata": {},
   "outputs": [],
   "source": []
  }
 ],
 "metadata": {
  "kernelspec": {
   "display_name": "Python 3",
   "language": "python",
   "name": "python3"
  },
  "language_info": {
   "codemirror_mode": {
    "name": "ipython",
    "version": 3
   },
   "file_extension": ".py",
   "mimetype": "text/x-python",
   "name": "python",
   "nbconvert_exporter": "python",
   "pygments_lexer": "ipython3",
   "version": "3.8.5"
  }
 },
 "nbformat": 4,
 "nbformat_minor": 4
}
